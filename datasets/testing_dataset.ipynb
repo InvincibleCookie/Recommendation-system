{
 "cells": [
  {
   "cell_type": "code",
   "execution_count": null,
   "metadata": {},
   "outputs": [
    {
     "name": "stdout",
     "output_type": "stream",
     "text": [
      "Requirement already satisfied: pyspark in ./.venv/lib/python3.12/site-packages (3.5.1)\n",
      "Requirement already satisfied: py4j==0.10.9.7 in ./.venv/lib/python3.12/site-packages (from pyspark) (0.10.9.7)\n",
      "Requirement already satisfied: pip in ./.venv/lib/python3.12/site-packages (24.3.1)\n"
     ]
    }
   ],
   "source": [
    "! pip install pyspark"
   ]
  },
  {
   "cell_type": "code",
   "execution_count": 2,
   "metadata": {},
   "outputs": [],
   "source": [
    "from pyspark.sql import SparkSession\n",
    "from pyspark.ml import Pipeline\n",
    "# from pyspark.ml.feature import StringIndexer, VectorAssembler, OneHotEncoder, StandardScaler\n",
    "# from pyspark.ml.evaluation import MulticlassClassificationEvaluator\n",
    "# from pyspark.ml.regression import LinearRegression, DecisionTreeRegressor, RandomForestRegressor, GBTRegressor\n",
    "# from pyspark.ml.evaluation import RegressionEvaluator\n",
    "from pyspark.sql.functions import col\n",
    "# import shutil\n",
    "from pyspark.sql.types import *\n",
    "import pyspark.sql.functions as Spark_f\n",
    "from pyspark import SparkConf\n",
    "from pyspark.sql.functions import format_number"
   ]
  },
  {
   "cell_type": "code",
   "execution_count": 3,
   "metadata": {},
   "outputs": [
    {
     "name": "stderr",
     "output_type": "stream",
     "text": [
      "24/11/25 19:43:40 WARN Utils: Your hostname, NBM-WXX9-7572c0be resolves to a loopback address: 127.0.1.1; using 192.168.88.79 instead (on interface wlp1s0)\n",
      "24/11/25 19:43:40 WARN Utils: Set SPARK_LOCAL_IP if you need to bind to another address\n",
      "Setting default log level to \"WARN\".\n",
      "To adjust logging level use sc.setLogLevel(newLevel). For SparkR, use setLogLevel(newLevel).\n",
      "24/11/25 19:43:41 WARN NativeCodeLoader: Unable to load native-hadoop library for your platform... using builtin-java classes where applicable\n"
     ]
    }
   ],
   "source": [
    "# spark = SparkSession.builder.appName(\"PySparkAmazonReviewsTestSet\").getOrCreate()\n",
    "conf = SparkConf() \\\n",
    "    .setMaster(\"local[10]\") \\\n",
    "    .set(\"spark.driver.memory\", \"2g\") \\\n",
    "    .set(\"spark.executor.memory\", \"4g\") \\\n",
    "    .set(\"spark.shuffle.spill\", \"true\") \\\n",
    "    .set(\"spark.network.timeout\", \"60s\") \\\n",
    "    .set(\"spark.executor.extraJavaOptions\", \"-XX:+UseG1GC -XX:InitiatingHeapOccupancyPercent=35 -XX:G1ReservePercent=20\") \\\n",
    "    .set(\"spark.sql.legacy.timeParserPolicy\",\"LEGACY\")\n",
    "\n",
    "spark = SparkSession.builder.config(conf=conf).appName(\"PySparkAmazonReviewsTestSet\").getOrCreate()"
   ]
  },
  {
   "cell_type": "code",
   "execution_count": 4,
   "metadata": {},
   "outputs": [
    {
     "data": {
      "text/html": [
       "\n",
       "            <div>\n",
       "                <p><b>SparkSession - in-memory</b></p>\n",
       "                \n",
       "        <div>\n",
       "            <p><b>SparkContext</b></p>\n",
       "\n",
       "            <p><a href=\"http://192.168.88.79:4040\">Spark UI</a></p>\n",
       "\n",
       "            <dl>\n",
       "              <dt>Version</dt>\n",
       "                <dd><code>v3.5.1</code></dd>\n",
       "              <dt>Master</dt>\n",
       "                <dd><code>local[10]</code></dd>\n",
       "              <dt>AppName</dt>\n",
       "                <dd><code>PySparkAmazonReviewsTestSet</code></dd>\n",
       "            </dl>\n",
       "        </div>\n",
       "        \n",
       "            </div>\n",
       "        "
      ],
      "text/plain": [
       "<pyspark.sql.session.SparkSession at 0x7e0e2855a990>"
      ]
     },
     "execution_count": 4,
     "metadata": {},
     "output_type": "execute_result"
    }
   ],
   "source": [
    "spark"
   ]
  },
  {
   "cell_type": "code",
   "execution_count": 5,
   "metadata": {},
   "outputs": [],
   "source": [
    "def parse_custom_csv(line):\n",
    "    import csv\n",
    "    from io import StringIO\n",
    "\n",
    "    try:\n",
    "        return next(csv.reader(StringIO(line)))\n",
    "    except:\n",
    "        return [\"PARSE_ERROR\", line]\n",
    "    \n",
    "def to_date_(col, formats=(\"MM/dd/yyyy\", \"yyyy-MM-dd\")):\n",
    "    # Spark 2.2 or later syntax, for < 2.2 use unix_timestamp and cast\n",
    "    return Spark_f.coalesce(*[Spark_f.to_date(col, f) for f in formats])"
   ]
  },
  {
   "cell_type": "code",
   "execution_count": 6,
   "metadata": {},
   "outputs": [],
   "source": [
    "# init schema, str only\n",
    "book_meta_struct = StructType([StructField(\"Title\", StringType(), True),StructField(\"description\", StringType(), True),StructField(\"authors\", StringType(), True),StructField(\"image\", StringType(), True), StructField(\"previewLink\", StringType(), True), StructField(\"publisher\", StringType(), True),StructField(\"publishedDate\",StringType(),True),StructField(\"infoLink\", StringType(), True), StructField(\"categories\", StringType(), True), StructField(\"ratingsCount\", StringType(), True)])\n",
    "book_review_struct = StructType([StructField(\"Id\",StringType(),True),StructField(\"Title\",StringType(),True),StructField(\"Price\",StringType(),True),StructField(\"User_id\",StringType(),True),StructField(\"profileName\",StringType(),True),StructField(\"review/helpfulness\",StringType(),True),StructField(\"review/score\",StringType(),True),StructField(\"review/time\",StringType(),True),StructField(\"review/summary\",StringType(),True),StructField(\"review/text\",StringType(),True)])"
   ]
  },
  {
   "cell_type": "code",
   "execution_count": null,
   "metadata": {},
   "outputs": [
    {
     "name": "stderr",
     "output_type": "stream",
     "text": [
      "24/11/25 19:43:50 WARN PythonRunner: Detected deadlock while completing task 0.0 in stage 1 (TID 1): Attempting to kill Python Worker\n",
      "                                                                                \r"
     ]
    },
    {
     "name": "stdout",
     "output_type": "stream",
     "text": [
      "+--------------------+--------------------+--------------------+--------------------+--------------------+--------------------+-------------+--------------------+--------------------+\n",
      "|               Title|         description|             authors|               image|         previewLink|           publisher|publishedDate|            infoLink|          categories|\n",
      "+--------------------+--------------------+--------------------+--------------------+--------------------+--------------------+-------------+--------------------+--------------------+\n",
      "|Its Only Art If I...|                    |      [Julie Strain]|http://books.goog...|http://books.goog...|                    |   1996-01-01|http://books.goog...|[Comics & Graphic...|\n",
      "|Dr. Seuss: Americ...|Philip Nel takes ...|        [Philip Nel]|http://books.goog...|http://books.goog...|           A&C Black|   2005-01-01|http://books.goog...|[Biography & Auto...|\n",
      "|Wonderful Worship...|This resource inc...|      [David R. Ray]|http://books.goog...|http://books.goog...|                    |   2000-01-01|http://books.goog...|          [Religion]|\n",
      "|Whispers of the W...|Julia Thomas find...|   [Veronica Haddon]|http://books.goog...|http://books.goog...|           iUniverse|   2005-02-01|http://books.goog...|           [Fiction]|\n",
      "|Nation Dance: Rel...|                    |       [Edward Long]|                    |http://books.goog...|                    |   2003-03-01|http://books.goog...|                  []|\n",
      "|The Church of Chr...|In The Church of ...|  [Everett Ferguson]|http://books.goog...|http://books.goog...|Wm. B. Eerdmans P...|   1996-01-01|http://books.goog...|          [Religion]|\n",
      "|The Overbury affa...|                    |[Miriam Allen De ...|                    |http://books.goog...|                    |   1960-01-01|http://books.goog...|                  []|\n",
      "|A Walk in the Woo...|                    |      [Lee Blessing]|                    |http://books.goog...|                    |   1988-01-01|http://books.goog...|                  []|\n",
      "|Saint Hyacinth of...|The story for chi...|[Mary Fabyan Wind...|http://books.goog...|http://books.goog...|     Tan Books & Pub|   2009-01-01|http://books.goog...|[Biography & Auto...|\n",
      "|Rising Sons and D...|Wardell recalls h...|    [Steven Wardell]|                    |http://books.goog...|  Plympton PressIntl|   1995-01-01|http://books.goog...|    [Social Science]|\n",
      "|Muslim Women's Ch...|Counters the West...|[Camillia Fawzi E...|http://books.goog...|http://books.goog...|    Berg Pub Limited|   1994-02-17|http://books.goog...|          [Religion]|\n",
      "|Dramatica for Scr...|Dramatica for Scr...|[Armando Salda A-...|http://books.goog...|http://books.goog...|                    |   2005-07-01|http://books.goog...|         [Reference]|\n",
      "|Mensa Number Puzz...|Acclaimed teacher...|[Evelyn B. Christ...|http://books.goog...|http://books.goog...|            Sky Pony|   2018-11-06|http://books.goog...|[Juvenile Nonfict...|\n",
      "|Vector Quantizati...|Herb Caen, a popu...|[Allen Gersho,  R...|http://books.goog...|http://books.goog...|Springer Science ...|   2012-12-06|https://play.goog...|[Technology & Eng...|\n",
      "|A husband for Kutani|First published i...|        [Frank Owen]|http://books.goog...|http://books.goog...|Pickle Partners P...|   2018-02-27|https://play.goog...|           [History]|\n",
      "| Gold and greenstone|Sally did most th...|       [Barry Crump]|                    |http://books.goog...|                    |   2009-01-01|http://books.goog...|[New Zealand fict...|\n",
      "|The Ultimate Guid...|This collection b...|      [Fiona Cownie]|http://books.goog...|http://books.goog...|Bloomsbury Publis...|   2010-01-28|https://play.goog...|               [Law]|\n",
      "|The Repeal of Ret...|At a time when Am...| [Rochelle Gurstein]|http://books.goog...|http://books.goog...|       Hill and Wang|   2016-01-05|https://play.goog...| [Political Science]|\n",
      "|Overcoming Hypert...|Like a time bomb ...| [Kenneth H. Cooper]|http://books.goog...|http://books.goog...|              Bantam|   2012-02-01|https://play.goog...|  [Health & Fitness]|\n",
      "|    Alaska Sourdough|\"Sourdough is a m...|       [Ruth Allman]|http://books.goog...|http://books.goog...|Alaska Northwest ...|   1976-01-01|http://books.goog...|           [Cooking]|\n",
      "|The Oxford Handbo...|A guide to curren...|       [Robert Kane]|http://books.goog...|http://books.goog...|             OUP USA|   2011-07-27|http://books.goog...|        [Philosophy]|\n",
      "|Eyewitness Travel...|The DK Eyewitness...|[Dorling Kindersl...|http://books.goog...|http://books.goog...|                    |   2015-06-15|http://books.goog...|            [Europe]|\n",
      "|Hunting The Hard Way|Thrilling stories...|       [Howard Hill]|http://books.goog...|http://books.goog...|     Derrydale Press|   2000-04-26|https://play.goog...|[Sports & Recreat...|\n",
      "|History of Magic ...|See the history o...|                [DK]|http://books.goog...|http://books.goog...|Dorling Kindersle...|   2020-08-06|https://play.goog...|[Body,  Mind & Sp...|\n",
      "|The Forbidden Sto...|Marta Veneranda, ...|[Sonia Rivera-Val...|http://books.goog...|http://books.goog...| Seven Stories Press|   2001-03-06|http://books.goog...|           [Fiction]|\n",
      "|Homer or Moses?: ...|                    |   [Arthur J. Droge]|http://books.goog...|http://books.goog...|        Mohr Siebeck|   1989-01-01|http://books.goog...|          [Religion]|\n",
      "|   Paolo Di Canio Hb|Understanding Hum...|     [Donald Laming]|http://books.goog...|http://books.goog...|   John Wiley & Sons|   2008-04-15|https://play.goog...|        [Psychology]|\n",
      "|Thomas Jefferson,...|                    |     [John T. Morse]|                    |http://books.goog...|                    |   1888-01-01|http://books.goog...|                  []|\n",
      "|Ricky Williams: D...|Ricky Williams is...|  [Steve Richardson]|http://books.goog...|http://books.goog...|  Simon and Schuster|   2012-02-07|http://books.goog...|[Sports & Recreat...|\n",
      "|Dealing With Disa...|Why Dragons So An...|       [John Adrian]|http://books.goog...|http://books.goog...|                    |   2020-09-25|http://books.goog...|                  []|\n",
      "|Portraits of the ...|A striking collec...|[National Portrai...|http://books.goog...|http://books.goog...|Smithsonian Insti...|   2018-02-13|http://books.goog...|[Biography & Auto...|\n",
      "|Voices from the F...|Twenty-five years...|       [Rupert Fike]|http://books.goog...|http://books.goog...|Book Publishing C...|   2012-08-21|https://play.goog...|[Biography & Auto...|\n",
      "|Little One, Maid ...|                    |      [E. B. Harvey]|                    |http://books.goog...|                    |   1976-01-01|http://books.goog...|[Bible stories,  ...|\n",
      "|The Battleship Bi...|The Bismarck is p...|  [Stefan Draminski]|http://books.goog...|http://books.goog...|Bloomsbury Publis...|   2018-09-20|https://play.goog...|           [History]|\n",
      "|Treat yourself to...|                    |[Raymond Charles ...|http://books.goog...|http://books.goog...|                    |   1954-01-01|http://books.goog...|       [New Thought]|\n",
      "|      Mini-mysteries|                    |                  []|http://books.goog...|http://books.goog...|Remedia Publications|         NULL|http://books.goog...|                  []|\n",
      "|The Complete Book...|Paper is the idea...|[Lorenz Books,  M...|                    |http://books.goog...|        Lorenz Books|   2000-01-01|http://books.goog...|  [Crafts & Hobbies]|\n",
      "|By Honor Bound (T...|A comprehensive g...|  [Kristin Ramsdell]|http://books.goog...|http://books.goog...|            ABC-CLIO|   2012-03-02|https://play.goog...|[Language Arts & ...|\n",
      "|   Usa Laminated Map|The United States...|[National Geograp...|http://books.goog...|http://books.goog...|                    |   2015-10-13|http://books.goog...|         [Reference]|\n",
      "|The New Conspirac...|This book examine...|   [Jeffrey M. Bale]|http://books.goog...|http://books.goog...|           Routledge|   2017-09-04|https://play.goog...| [Political Science]|\n",
      "+--------------------+--------------------+--------------------+--------------------+--------------------+--------------------+-------------+--------------------+--------------------+\n",
      "only showing top 40 rows\n",
      "\n"
     ]
    }
   ],
   "source": [
    "# pyspark криво парсит CSV файлы с кучей кавычек обычным способом, в некоторых случаях помогает опция unescapedQuoteHandling=\"STOP_AT_CLOSING_QUOTE\", но не всегда справляется\n",
    "raw_data = spark.sparkContext.textFile('//dataset/test/input/books_data.csv')\n",
    "header = raw_data.first()\n",
    "data_without_header = raw_data.filter(lambda line: line != header)\n",
    "parsed_data = data_without_header.map(parse_custom_csv)\n",
    "\n",
    "df = parsed_data.toDF(book_meta_struct)\n",
    "# book_meta.withColumn(\"author_array\",Spark_f.split(Spark_f.regexp_replace(Spark_f.col(\"authors\"), r\"[\\[\\]']\", \"\"), \",\")).show()\n",
    "# book_meta = df.withColumns({\"publishedDate\":to_date_(\"publishedDate\",formats=(\"yyyy-MM-dd\",\"yyyy-MM\",\"yyyy\")),\"ratingsCount\":df.ratingsCount.cast(FloatType())})\n",
    "book_meta = df.drop(\"ratingsCount\").withColumns({\"publishedDate\":Spark_f.to_date(col(\"publishedDate\")),\"authors\":Spark_f.split(Spark_f.regexp_replace(Spark_f.col(\"authors\"), r\"[\\[\\]']\", \"\"), \",\"),\"categories\":Spark_f.split(Spark_f.regexp_replace(Spark_f.col(\"categories\"), r\"[\\[\\]']\", \"\"), \",\")})\n",
    "\n",
    "book_meta.show(40)"
   ]
  },
  {
   "cell_type": "code",
   "execution_count": null,
   "metadata": {},
   "outputs": [
    {
     "name": "stderr",
     "output_type": "stream",
     "text": [
      "24/11/25 19:43:54 WARN GarbageCollectionMetrics: To enable non-built-in garbage collector(s) List(G1 Concurrent GC), users should configure it(them) to spark.eventLog.gcMetrics.youngGenerationGarbageCollectors or spark.eventLog.gcMetrics.oldGenerationGarbageCollectors\n"
     ]
    },
    {
     "name": "stdout",
     "output_type": "stream",
     "text": [
      "+----------+--------------------+--------------+--------------------+------------------+------------+-----------+--------------------+--------------------+\n",
      "|        Id|               Title|       User_id|         profileName|review/helpfulness|review/score|review/time|      review/summary|         review/text|\n",
      "+----------+--------------------+--------------+--------------------+------------------+------------+-----------+--------------------+--------------------+\n",
      "|1882931173|Its Only Art If I...| AVCGYZL8FQQTD|Jim of Oz \"jim-of...|               7/7|         4.0| 1999-10-23|Nice collection o...|This is only for ...|\n",
      "|0826414346|Dr. Seuss: Americ...|A30TK6U7DNS82R|       Kevin Killian|             10/10|         5.0| 2004-09-21|   Really Enjoyed It|I don't care much...|\n",
      "|0826414346|Dr. Seuss: Americ...|A3UH4UZ4RSVO82|        John Granger|             10/11|         5.0| 2004-03-09|Essential for eve...|If people become ...|\n",
      "|0826414346|Dr. Seuss: Americ...|A2MVUWT453QH61|Roy E. Perry \"ama...|               7/7|         4.0| 2004-07-25|Phlip Nel gives s...|Theodore Seuss Ge...|\n",
      "|0826414346|Dr. Seuss: Americ...|A22X4XUPKF66MR|D. H. Richards \"n...|               3/3|         4.0| 2005-02-10|Good academic ove...|Philip Nel - Dr. ...|\n",
      "|0826414346|Dr. Seuss: Americ...|A2F6NONFUDB6UK|              Malvin|               2/2|         4.0| 2005-09-20|One of America's ...|\"Dr. Seuss: Ameri...|\n",
      "|0826414346|Dr. Seuss: Americ...|A14OJS0VWMOSWO| Midwest Book Review|               3/4|         5.0| 2004-11-11|A memorably excel...|Theodor Seuss Gie...|\n",
      "|0826414346|Dr. Seuss: Americ...|A2RSSXTDZDUSH4|           J. Squire|               0/0|         5.0| 2009-01-06|Academia At It's ...|When I recieved t...|\n",
      "|0826414346|Dr. Seuss: Americ...|A25MD5I2GUIW6W|J. P. HIGBED \"big...|               0/0|         5.0| 2008-05-04|And to think that...|Trams (or any pub...|\n",
      "|0826414346|Dr. Seuss: Americ...|A3VA4XFS5WNJO3|     Donald Burnside|               3/5|         4.0| 2004-02-10|Fascinating accou...|As far as I am aw...|\n",
      "|0829814000|Wonderful Worship...| AZ0IOBU20TBOP|  Rev. Pamela Tinnin|              8/10|         5.0| 2001-06-02|Outstanding Resou...|I just finished t...|\n",
      "|0829814000|Wonderful Worship...|A373VVEU6Z9M0N|Dr. Terry W. Dorsett|               1/1|         5.0| 2010-12-08|Small Churches CA...|Many small church...|\n",
      "|0829814000|Wonderful Worship...| AGKGOH65VTRR4|Cynthia L. Lajoy ...|               1/1|         5.0| 2009-07-23|Not Just for Past...|I just finished r...|\n",
      "|0829814000|Wonderful Worship...| A3OQWLU31BU1Y|       Maxwell Grant|               1/1|         5.0| 2008-09-28|Small church past...|I hadn't been a s...|\n",
      "|0595344550|Whispers of the W...|A3Q12RK71N74LB|         Book Reader|              7/11|         1.0| 2005-05-26|            not good|I bought this boo...|\n",
      "|0595344550|Whispers of the W...|A1E9M6APK30ZAU|           V. Powell|               1/2|         4.0| 2005-06-24|  Here is my opinion|I have to admit, ...|\n",
      "|0595344550|Whispers of the W...| AUR0VA5H0C66C|LoveToRead \"Actua...|               1/2|         1.0| 2005-06-20|        Buyer beware|This is a self-pu...|\n",
      "|0595344550|Whispers of the W...|A1YLDZ3VHR6QPZ|               Clara|               2/4|         5.0| 2005-05-13| Fall on your knee's|When I first read...|\n",
      "|0595344550|Whispers of the W...| ACO23CG8K8T77|               Tonya|               5/9|         5.0| 2005-05-26|      Bravo Veronica|I read the review...|\n",
      "|0595344550|Whispers of the W...|A1VK81CRRC7MLM|    missyLou \"apple\"|               1/3|         5.0| 2005-10-23|           Wonderful|I really enjoyed ...|\n",
      "|0595344550|Whispers of the W...|A2GKUH6OBW7POH|          julee glee|               0/2|         5.0| 2005-06-07|           Awesome !|This was not a ty...|\n",
      "|0595344550|Whispers of the W...| A2BAF61XBWSLH|               Vanna|               1/4|         5.0| 2005-06-11|      Glorious story|I loved Whisper o...|\n",
      "|0595344550|Whispers of the W...| A6OQ83FD8E2OC|         Read-Aholic|               1/4|         5.0| 2005-05-31|         Loved it !!|I loved this book...|\n",
      "|0595344550|Whispers of the W...| AVRN9E6X9I6KF|              Karisa|               0/3|         5.0| 2005-06-19|Five stars it not...|I thought this bo...|\n",
      "|0595344550|Whispers of the W...|A2YWUISTJ728T5|               darby|               4/6|         5.0| 2005-05-12|    A FIVE STAR BOOK|I just finished r...|\n",
      "|0595344550|Whispers of the W...| ASEIU33YVKKWW|Barbara Steinbach...|               2/3|         5.0| 2005-08-22|Whispers of the W...|This was a easy t...|\n",
      "|0595344550|Whispers of the W...| AJV5HX8BBZKEP|jaylynn Roberts \"...|               0/0|         4.0| 2006-07-01|Errors, but great...|I was a dissapoin...|\n",
      "|0595344550|Whispers of the W...| A1P2KGE2Z8RTA|        C. Robertson|               0/0|         1.0| 2005-06-28|          The Worst!|A complete waste ...|\n",
      "|0595344550|Whispers of the W...| AE5JROER4ERSO|              carrie|               0/0|         5.0| 2005-06-23|The truth about W...|I have to say tha...|\n",
      "|0595344550|Whispers of the W...|A38P0UQN2C364Y|               nessy|               0/0|         5.0| 2005-05-12|How could someone...|I am an avid read...|\n",
      "|0595344550|Whispers of the W...|A16FTKP8BXKGHG|Rebecca Lover \"Be...|               0/0|         5.0| 2005-05-12|Luscious, hot for...|This book was ver...|\n",
      "|0595344550|Whispers of the W...|A1N38F1DJ9H2KM|           Macy Lynn|               0/0|         5.0| 2005-05-03|The best book I h...|I happen to love ...|\n",
      "|0595344550|Whispers of the W...|A3V4NY81KXZAUL|           pen delta|               0/0|         4.0| 2005-05-02|          Great book|This was a great ...|\n",
      "|0595344550|Whispers of the W...|A29I6N5F8P386Y|         J. serratos|               0/0|         5.0| 2005-03-17|The best book I'v...|This is a wonderf...|\n",
      "|0595344550|Whispers of the W...|A2ABV8FXF88O9P|            Victoria|               1/5|         4.0| 2005-05-24|Wonderful, wonder...|Just as predicted...|\n",
      "|0595344550|Whispers of the W...|A1EONVY639PQDY|              Sophie|               0/4|         5.0| 2005-05-16|          Great Read|I thought this bo...|\n",
      "|0595344550|Whispers of the W...|A2XXVRH6VJ8S7Q|        S. Steinbach|               8/8|         5.0| 2005-02-14|Couldn't put this...|Normally I'm not ...|\n",
      "|0595344550|Whispers of the W...|A3OS2QHEH495TD|                  PW|               5/5|         1.0| 2005-05-12|           Oh please|I guess you have ...|\n",
      "|0595344550|Whispers of the W...|A3S5YQQWBO0LGI|              N. Ray|               4/4|         1.0| 2005-06-24|Awful beyond belief!|I feel I have to ...|\n",
      "|0595344550|Whispers of the W...| A9L6GHJC42RRC|    denpq \"A READER\"|               6/7|         1.0| 2005-06-27|You've got to han...|I purchased this ...|\n",
      "+----------+--------------------+--------------+--------------------+------------------+------------+-----------+--------------------+--------------------+\n",
      "only showing top 40 rows\n",
      "\n"
     ]
    },
    {
     "name": "stderr",
     "output_type": "stream",
     "text": [
      "24/11/25 19:43:56 WARN PythonRunner: Detected deadlock while completing task 0.0 in stage 3 (TID 3): Attempting to kill Python Worker\n",
      "                                                                                \r"
     ]
    }
   ],
   "source": [
    "raw_data = spark.sparkContext.textFile('/dataset/test/input/Books_rating.csv')\n",
    "header = raw_data.first()\n",
    "data_without_header = raw_data.filter(lambda line: line != header)\n",
    "parsed_data = data_without_header.map(parse_custom_csv)\n",
    "\n",
    "df = parsed_data.toDF(book_review_struct)\n",
    "book_review = df.drop(df.Price).withColumns({\"review/score\":col(\"review/score\").cast(FloatType()),\"review/time\":Spark_f.to_date(Spark_f.from_unixtime(col(\"review/time\").cast(\"long\")))})\n",
    "# df = df.withColumns({\"publishedDate\":to_date_(\"publishedDate\",formats=(\"yyyy-MM-dd\",\"yyyy-MM\",\"yyyy\")),\"ratingsCount\":df.ratingsCount.cast(FloatType())})\n",
    "\n",
    "book_review.show(40)"
   ]
  },
  {
   "cell_type": "code",
   "execution_count": 9,
   "metadata": {},
   "outputs": [],
   "source": [
    "# book_meta_struct = StructType([StructField(\"Title\", StringType(), True),StructField(\"description\", StringType(), True),StructField(\"authors\", ArrayType(StringType(),True), True),StructField(\"image\", StringType(), True), StructField(\"previewLink\", StringType(), True), StructField(\"publisher\", StringType(), True), StructField(\"publishedDate\",StringType(),True), StructField(\"infoLink\", StringType(), True), StructField(\"categories\", ArrayType(StringType(), True)), StructField(\"ratingsCount\", FloatType(), True)])\n",
    "# book_meta_struct = StructType([StructField(\"Title\", StringType(), True),StructField(\"description\", StringType(), True),StructField(\"authors\", StringType(), True),StructField(\"image\", StringType(), True), StructField(\"previewLink\", StringType(), True), StructField(\"publisher\", StringType(), True),StructField(\"publishedDate\",DateType(),True),StructField(\"infoLink\", StringType(), True), StructField(\"categories\", StringType(), True), StructField(\"ratingsCount\", FloatType(), True)])\n",
    "# book_meta = spark.read.csv(\"/home/lshakhmetov/Загрузки/datasets/books_data.csv\", schema=book_meta_struct,header=True, unescapedQuoteHandling=\"STOP_AT_CLOSING_QUOTE\")\n",
    "# book_meta = spark.read.csv(\"/home/lshakhmetov/Загрузки/datasets/books_data.csv\", inferSchema=True,header=True)\n",
    "# book_reviews = spark.read.csv(\"/home/lshakhmetov/Загрузки/datasets/Books_rating.csv\",header=True)\n",
    "# book_meta.show(30, True)\n",
    "# book_reviews.show()"
   ]
  },
  {
   "cell_type": "code",
   "execution_count": 10,
   "metadata": {},
   "outputs": [
    {
     "name": "stderr",
     "output_type": "stream",
     "text": [
      "[Stage 8:>                                                        (0 + 10) / 11]\r"
     ]
    },
    {
     "name": "stdout",
     "output_type": "stream",
     "text": [
      "+--------------------+--------------------+--------------------+--------------------+--------------------+--------------------+-------------+--------------------+-------------------+----------+\n",
      "|               Title|         description|             authors|               image|         previewLink|           publisher|publishedDate|            infoLink|         categories|popularity|\n",
      "+--------------------+--------------------+--------------------+--------------------+--------------------+--------------------+-------------+--------------------+-------------------+----------+\n",
      "|          The Hobbit|Celebrating 75 ye...|  [J. R. R. Tolkien]|http://books.goog...|http://books.goog...|       Mariner Books|   2012-01-01|http://books.goog...| [Juvenile Fiction]|     22023|\n",
      "| Pride and Prejudice|In early nineteen...|       [Jane Austen]|http://books.goog...|http://books.goog...| Courier Corporation|   1995-01-01|http://books.goog...|          [Fiction]|     20371|\n",
      "|      Atlas Shrugged|                    |                  []|                    |                    |                    |         NULL|                    |                 []|     12513|\n",
      "|   Wuthering Heights|Wuthering Heights...|      [Emily Bronte]|http://books.goog...|http://books.goog...|Library of Alexan...|         NULL|https://play.goog...|                 []|     10780|\n",
      "|           The Giver|Given his lifetim...|        [Lois Lowry]|http://books.goog...|http://books.goog...|      Harcourt Brace|   2014-07-01|http://books.goog...| [Juvenile Fiction]|      7644|\n",
      "|  Great Expectations|Penguin Classics ...|   [Charles Dickens]|http://books.goog...|http://books.goog...|          Penguin UK|   2003-01-30|https://play.goog...|          [Fiction]|      7421|\n",
      "|Harry Potter and ...|Celebrate 20 year...|     [J. K. Rowling]|http://books.goog...|http://books.goog...|Bloomsbury Publis...|   2014-01-09|http://books.goog...| [Juvenile Fiction]|      6796|\n",
      "|     Of Mice and Men|                    |                  []|                    |                    |                    |         NULL|                    |                 []|      6728|\n",
      "|     Brave New World|Brave New World p...|     [Aldous Huxley]|http://books.goog...|http://books.goog...|        Random House|   2008-12-26|https://play.goog...|          [Fiction]|      6312|\n",
      "|   Mere Christianity|In the classic Me...|       [C. S. Lewis]|http://books.goog...|http://books.goog...|      Harper Collins|   2009-06-02|https://play.goog...|         [Religion]|      6053|\n",
      "|The Picture of Do...|The Picture of Do...|       [Óscar Wilde]|http://books.goog...|http://books.goog...|                    |   2016-01-24|http://books.goog...|                 []|      5883|\n",
      "|          Persuasion|                    |       [Jane Austen]|http://books.goog...|http://books.goog...|      Little, Brown,|   1899-01-01|https://play.goog...|                 []|      5498|\n",
      "|    The Great Gatsby|In The Great Gats...|[F. Scott Fitzger...|http://books.goog...|http://books.goog...|       Pan Macmillan|   2016-09-08|https://play.goog...|          [Fiction]|      5291|\n",
      "|      Fahrenheit 451|                    |      [Ray Bradbury]|http://books.goog...|http://books.goog...|                    |   2012-01-01|http://books.goog...|     [Book burning]|      4932|\n",
      "|To kill a mocking...|Voted America's B...|        [Harper Lee]|http://books.goog...|http://books.goog...|      Harper Collins|   2014-07-08|https://play.goog...|          [Fiction]|      4805|\n",
      "|The Scarlet Lette...|                    |                  []|                    |                    |                    |         NULL|                    |                 []|      4610|\n",
      "|The Hobbit There ...|The adventures of...|[John Ronald Reue...|                    |http://books.goog...|                    |   1966-01-01|http://books.goog...|[Adventure stories]|      4438|\n",
      "|The Hobbit; Or, T...|                    |                  []|                    |                    |                    |         NULL|                    |                 []|      4427|\n",
      "|The Hobbitt, or t...|Bilbo Baggins, a ...|  [J. R. R. Tolkien]|http://books.goog...|http://books.goog...|Houghton Mifflin ...|   2013-01-01|http://books.goog...|          [Fiction]|      4420|\n",
      "|The Hobbit or The...|Celebrating 75 ye...|  [J. R. R. Tolkien]|http://books.goog...|http://books.goog...|       Mariner Books|   2012-01-01|http://books.goog...| [Juvenile Fiction]|      4373|\n",
      "+--------------------+--------------------+--------------------+--------------------+--------------------+--------------------+-------------+--------------------+-------------------+----------+\n",
      "only showing top 20 rows\n",
      "\n"
     ]
    },
    {
     "name": "stderr",
     "output_type": "stream",
     "text": [
      "                                                                                \r"
     ]
    }
   ],
   "source": [
    "# book_meta = book_meta.withColumn(\"popularity\",Spark_f.when(book_meta.Title == book_review.groupBy(\"Title\").count()))\n",
    "book_meta = book_meta.join(book_review.groupBy(\"Title\").agg(Spark_f.count(\"*\").alias(\"popularity\")),on=\"Title\", how=\"left\").sort(Spark_f.desc(\"popularity\")).limit(1000)\n",
    "book_meta.show()"
   ]
  },
  {
   "cell_type": "code",
   "execution_count": 11,
   "metadata": {},
   "outputs": [
    {
     "name": "stderr",
     "output_type": "stream",
     "text": [
      "[Stage 15:>                                                         (0 + 1) / 1]\r"
     ]
    },
    {
     "name": "stdout",
     "output_type": "stream",
     "text": [
      "+--------------------+----------+--------------+--------------------+------------------+------------+-----------+--------------------+--------------------+\n",
      "|               Title|        Id|       User_id|         profileName|review/helpfulness|review/score|review/time|      review/summary|         review/text|\n",
      "+--------------------+----------+--------------+--------------------+------------------+------------+-----------+--------------------+--------------------+\n",
      "|Economics in one ...|B0007H4QBK|A2FYWUHFF21Q8F|          Mark Twian|               2/4|         5.0| 2004-02-09|    Short and Sweet.|For as important ...|\n",
      "|Economics in one ...|B0007H4QBK| A5P9PV92PRYEE|gary@clearbridge.com|               2/4|         5.0| 1999-07-16|Explains why econ...|Hazlitt's view is...|\n",
      "|Economics in one ...|B0007H4QBK|A1D4N3NVIN55PK|            fmj30cal|               0/1|         4.0| 2012-12-07|  Available for Free|You can get the f...|\n",
      "|Economics in one ...|B0007H4QBK|A34AW9TMV7F69T|                  GE|               0/1|         3.0| 2012-11-17|        Hard to read|I am not a native...|\n",
      "|Economics in one ...|B0007H4QBK|A1IHQR1NT6CKVR|      Bogey62 \"Bill\"|               0/1|         5.0| 2011-03-28|Every nutty Liber...|This book was wri...|\n",
      "|Economics in one ...|B0007H4QBK|A3J4GBAN27WS3V|              Albert|               0/1|         5.0| 2010-07-09|A must read for a...|This is an excell...|\n",
      "|Economics in one ...|B0007H4QBK| AAZ4HNFZ7C9PG|Carl Nelson \"John...|               0/1|         5.0| 2009-02-07|Simplifed Economi...|This book is the ...|\n",
      "|Economics in one ...|B0007H4QBK|              |                    |               0/1|         5.0| 1998-07-27|             Read it|A great education...|\n",
      "|Economics in one ...|B0007H4QBK| AN94QRHSY3XFW|Ed Savoir \"If you...|               3/6|         5.0| 2010-11-12|Want to learn Eco...|When I lost my jo...|\n",
      "|Economics in one ...|B0007H4QBK|A2X016MRJ0XVT6|   David J. Heinrich|              9/16|         5.0| 2003-12-24|The criticisms of...|Rather than expla...|\n",
      "|Economics in one ...|B0007H4QBK| AF3X7J0XC391L|Stratiotes Doxha ...|              7/11|         5.0| 2005-01-21|Economics in a nu...|This is, in my op...|\n",
      "|Economics in one ...|B0007H4QBK|A2R7RTF23YV5DO|Miss Judy \"Always...|               3/5|         5.0| 2010-03-31|A Must for Every ...|This is the most ...|\n",
      "|Economics in one ...|B0007H4QBK|A3FHSO1SKHU378|Larry Underwood \"...|               3/5|         5.0| 2009-10-20|In Defense of the...|Henry Hazlitt pro...|\n",
      "|Economics in one ...|B0007H4QBK| A6IY233CW4L13|    Gary S. Brueggen|               3/5|         5.0| 2009-04-20|    Required reading|This book makes e...|\n",
      "|Economics in one ...|B0007H4QBK|A1HXW6A3HP229L|    Matthew Sellitto|               1/2|         5.0| 2010-11-25|            Amazing!|Economics in One ...|\n",
      "|Economics in one ...|B0007H4QBK|A2Z51IVMG0XQ5D|       Spiros Arthur|               1/2|         5.0| 2010-11-09|Still relevant to...|From previous rev...|\n",
      "|Economics in one ...|B0007H4QBK|A1X18PGBTPB1A3|      Jeff Hall \"JH\"|               1/2|         5.0| 2010-05-16|  Easy to understand|A book that expla...|\n",
      "|Economics in one ...|B0007H4QBK|A2YIWHFN678ZTB|   Michael D. Markle|               1/2|         5.0| 2010-02-06|         Great Title|Truly does explai...|\n",
      "|Economics in one ...|B0007H4QBK|A2B1UGXGO4M68J|  Gary L. Brownfield|               1/2|         5.0| 2010-01-30|Economics for the...|With the turbulen...|\n",
      "|Economics in one ...|B0007H4QBK|A3OWUSU9RG4NMF|  Riles Drey \"Solon\"|               1/2|         5.0| 2009-08-04|Haizlitt takes a ...|In the tradition ...|\n",
      "+--------------------+----------+--------------+--------------------+------------------+------------+-----------+--------------------+--------------------+\n",
      "only showing top 20 rows\n",
      "\n"
     ]
    },
    {
     "name": "stderr",
     "output_type": "stream",
     "text": [
      "24/11/25 19:44:37 WARN PythonRunner: Detected deadlock while completing task 0.0 in stage 15 (TID 210): Attempting to kill Python Worker\n",
      "                                                                                \r"
     ]
    }
   ],
   "source": [
    "book_review = book_review.join(book_meta,on='Title',how='leftsemi')\n",
    "book_review.show()"
   ]
  },
  {
   "cell_type": "code",
   "execution_count": 12,
   "metadata": {},
   "outputs": [
    {
     "name": "stderr",
     "output_type": "stream",
     "text": [
      "                                                                                \r"
     ]
    }
   ],
   "source": [
    "book_meta.coalesce(1).write.mode(\"overwrite\") \\\n",
    "    .option(\"compression\", \"snappy\") \\\n",
    "    .parquet(\"/dataset/test/test_book_meta\")\n",
    "book_review.coalesce(1).write.mode(\"overwrite\") \\\n",
    "    .option(\"compression\", \"snappy\") \\\n",
    "    .parquet(\"/dataset/test/test_book_review\")"
   ]
  }
 ],
 "metadata": {
  "kernelspec": {
   "display_name": ".venv",
   "language": "python",
   "name": "python3"
  },
  "language_info": {
   "codemirror_mode": {
    "name": "ipython",
    "version": 3
   },
   "file_extension": ".py",
   "mimetype": "text/x-python",
   "name": "python",
   "nbconvert_exporter": "python",
   "pygments_lexer": "ipython3",
   "version": "3.12.7"
  }
 },
 "nbformat": 4,
 "nbformat_minor": 2
}
