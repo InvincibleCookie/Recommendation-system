{
 "cells": [
  {
   "cell_type": "code",
   "execution_count": 1,
   "metadata": {},
   "outputs": [
    {
     "name": "stdout",
     "output_type": "stream",
     "text": [
      "Requirement already satisfied: pyspark in ./.venv/lib/python3.12/site-packages (3.5.1)\n",
      "Requirement already satisfied: pandas in ./.venv/lib/python3.12/site-packages (2.2.2)\n",
      "Requirement already satisfied: numpy in ./.venv/lib/python3.12/site-packages (1.26.4)\n",
      "Requirement already satisfied: py4j==0.10.9.7 in ./.venv/lib/python3.12/site-packages (from pyspark) (0.10.9.7)\n",
      "Requirement already satisfied: python-dateutil>=2.8.2 in ./.venv/lib/python3.12/site-packages (from pandas) (2.9.0.post0)\n",
      "Requirement already satisfied: pytz>=2020.1 in ./.venv/lib/python3.12/site-packages (from pandas) (2024.1)\n",
      "Requirement already satisfied: tzdata>=2022.7 in ./.venv/lib/python3.12/site-packages (from pandas) (2024.1)\n",
      "Requirement already satisfied: six>=1.5 in ./.venv/lib/python3.12/site-packages (from python-dateutil>=2.8.2->pandas) (1.16.0)\n"
     ]
    }
   ],
   "source": [
    "! pip install pyspark pandas numpy"
   ]
  },
  {
   "cell_type": "code",
   "execution_count": 2,
   "metadata": {},
   "outputs": [],
   "source": [
    "from pyspark.sql import SparkSession\n",
    "from pyspark.ml import Pipeline\n",
    "# from pyspark.ml.feature import StringIndexer, VectorAssembler, OneHotEncoder, StandardScaler\n",
    "# from pyspark.ml.evaluation import MulticlassClassificationEvaluator\n",
    "# from pyspark.ml.regression import LinearRegression, DecisionTreeRegressor, RandomForestRegressor, GBTRegressor\n",
    "# from pyspark.ml.evaluation import RegressionEvaluator\n",
    "from pyspark.sql.functions import col\n",
    "# import shutil\n",
    "from pyspark.sql.types import *\n",
    "import pyspark.sql.functions as Spark_f\n",
    "from pyspark import SparkConf\n",
    "from pyspark.sql.functions import format_number\n",
    "import pandas, numpy\n",
    "import gc"
   ]
  },
  {
   "cell_type": "code",
   "execution_count": 3,
   "metadata": {},
   "outputs": [
    {
     "name": "stderr",
     "output_type": "stream",
     "text": [
      "24/11/28 03:12:24 WARN Utils: Your hostname, NBM-WXX9-7572c0be resolves to a loopback address: 127.0.1.1; using 192.168.88.79 instead (on interface wlp1s0)\n",
      "24/11/28 03:12:24 WARN Utils: Set SPARK_LOCAL_IP if you need to bind to another address\n",
      "Setting default log level to \"WARN\".\n",
      "To adjust logging level use sc.setLogLevel(newLevel). For SparkR, use setLogLevel(newLevel).\n",
      "24/11/28 03:12:24 WARN NativeCodeLoader: Unable to load native-hadoop library for your platform... using builtin-java classes where applicable\n"
     ]
    }
   ],
   "source": [
    "# spark = SparkSession.builder.appName(\"PySparkAmazonReviewsTestSet\").getOrCreate()\n",
    "conf = SparkConf() \\\n",
    "    .setMaster(\"local[10]\") \\\n",
    "    .set(\"spark.driver.memory\", \"2g\") \\\n",
    "    .set(\"spark.executor.memory\", \"4g\") \\\n",
    "    .set(\"spark.shuffle.spill\", \"true\") \\\n",
    "    .set(\"spark.network.timeout\", \"60s\") \\\n",
    "    .set(\"spark.executor.extraJavaOptions\", \"-XX:+UseG1GC -XX:InitiatingHeapOccupancyPercent=35 -XX:G1ReservePercent=20\") \\\n",
    "    .set(\"spark.sql.legacy.timeParserPolicy\",\"LEGACY\")\n",
    "\n",
    "spark = SparkSession.builder.config(conf=conf).appName(\"PySparkAmazonReviewsTestSet\").getOrCreate()"
   ]
  },
  {
   "cell_type": "code",
   "execution_count": 4,
   "metadata": {},
   "outputs": [
    {
     "data": {
      "text/html": [
       "\n",
       "            <div>\n",
       "                <p><b>SparkSession - in-memory</b></p>\n",
       "                \n",
       "        <div>\n",
       "            <p><b>SparkContext</b></p>\n",
       "\n",
       "            <p><a href=\"http://192.168.88.79:4040\">Spark UI</a></p>\n",
       "\n",
       "            <dl>\n",
       "              <dt>Version</dt>\n",
       "                <dd><code>v3.5.1</code></dd>\n",
       "              <dt>Master</dt>\n",
       "                <dd><code>local[10]</code></dd>\n",
       "              <dt>AppName</dt>\n",
       "                <dd><code>PySparkAmazonReviewsTestSet</code></dd>\n",
       "            </dl>\n",
       "        </div>\n",
       "        \n",
       "            </div>\n",
       "        "
      ],
      "text/plain": [
       "<pyspark.sql.session.SparkSession at 0x7a7d25d18e00>"
      ]
     },
     "execution_count": 4,
     "metadata": {},
     "output_type": "execute_result"
    }
   ],
   "source": [
    "spark"
   ]
  },
  {
   "cell_type": "code",
   "execution_count": null,
   "metadata": {},
   "outputs": [
    {
     "name": "stderr",
     "output_type": "stream",
     "text": [
      "24/11/28 03:12:38 WARN GarbageCollectionMetrics: To enable non-built-in garbage collector(s) List(G1 Concurrent GC), users should configure it(them) to spark.eventLog.gcMetrics.youngGenerationGarbageCollectors or spark.eventLog.gcMetrics.oldGenerationGarbageCollectors\n"
     ]
    },
    {
     "data": {
      "text/html": [
       "<div>\n",
       "<style scoped>\n",
       "    .dataframe tbody tr th:only-of-type {\n",
       "        vertical-align: middle;\n",
       "    }\n",
       "\n",
       "    .dataframe tbody tr th {\n",
       "        vertical-align: top;\n",
       "    }\n",
       "\n",
       "    .dataframe thead th {\n",
       "        text-align: right;\n",
       "    }\n",
       "</style>\n",
       "<table border=\"1\" class=\"dataframe\">\n",
       "  <thead>\n",
       "    <tr style=\"text-align: right;\">\n",
       "      <th></th>\n",
       "      <th>Title</th>\n",
       "      <th>description</th>\n",
       "      <th>authors</th>\n",
       "      <th>image</th>\n",
       "      <th>previewLink</th>\n",
       "      <th>publisher</th>\n",
       "      <th>publishedDate</th>\n",
       "      <th>infoLink</th>\n",
       "      <th>categories</th>\n",
       "      <th>ratingsCount</th>\n",
       "    </tr>\n",
       "  </thead>\n",
       "  <tbody>\n",
       "    <tr>\n",
       "      <th>0</th>\n",
       "      <td>Its Only Art If Its Well Hung!</td>\n",
       "      <td>NaN</td>\n",
       "      <td>['Julie Strain']</td>\n",
       "      <td>http://books.google.com/books/content?id=DykPA...</td>\n",
       "      <td>http://books.google.nl/books?id=DykPAAAACAAJ&amp;d...</td>\n",
       "      <td>NaN</td>\n",
       "      <td>1996</td>\n",
       "      <td>http://books.google.nl/books?id=DykPAAAACAAJ&amp;d...</td>\n",
       "      <td>['Comics &amp; Graphic Novels']</td>\n",
       "      <td>NaN</td>\n",
       "    </tr>\n",
       "    <tr>\n",
       "      <th>1</th>\n",
       "      <td>Dr. Seuss: American Icon</td>\n",
       "      <td>Philip Nel takes a fascinating look into the k...</td>\n",
       "      <td>['Philip Nel']</td>\n",
       "      <td>http://books.google.com/books/content?id=IjvHQ...</td>\n",
       "      <td>http://books.google.nl/books?id=IjvHQsCn_pgC&amp;p...</td>\n",
       "      <td>A&amp;C Black</td>\n",
       "      <td>2005-01-01</td>\n",
       "      <td>http://books.google.nl/books?id=IjvHQsCn_pgC&amp;d...</td>\n",
       "      <td>['Biography &amp; Autobiography']</td>\n",
       "      <td>NaN</td>\n",
       "    </tr>\n",
       "    <tr>\n",
       "      <th>2</th>\n",
       "      <td>Wonderful Worship in Smaller Churches</td>\n",
       "      <td>This resource includes twelve principles in un...</td>\n",
       "      <td>['David R. Ray']</td>\n",
       "      <td>http://books.google.com/books/content?id=2tsDA...</td>\n",
       "      <td>http://books.google.nl/books?id=2tsDAAAACAAJ&amp;d...</td>\n",
       "      <td>NaN</td>\n",
       "      <td>2000</td>\n",
       "      <td>http://books.google.nl/books?id=2tsDAAAACAAJ&amp;d...</td>\n",
       "      <td>['Religion']</td>\n",
       "      <td>NaN</td>\n",
       "    </tr>\n",
       "    <tr>\n",
       "      <th>3</th>\n",
       "      <td>Whispers of the Wicked Saints</td>\n",
       "      <td>Julia Thomas finds her life spinning out of co...</td>\n",
       "      <td>['Veronica Haddon']</td>\n",
       "      <td>http://books.google.com/books/content?id=aRSIg...</td>\n",
       "      <td>http://books.google.nl/books?id=aRSIgJlq6JwC&amp;d...</td>\n",
       "      <td>iUniverse</td>\n",
       "      <td>2005-02</td>\n",
       "      <td>http://books.google.nl/books?id=aRSIgJlq6JwC&amp;d...</td>\n",
       "      <td>['Fiction']</td>\n",
       "      <td>NaN</td>\n",
       "    </tr>\n",
       "    <tr>\n",
       "      <th>4</th>\n",
       "      <td>Nation Dance: Religion, Identity and Cultural ...</td>\n",
       "      <td>NaN</td>\n",
       "      <td>['Edward Long']</td>\n",
       "      <td>NaN</td>\n",
       "      <td>http://books.google.nl/books?id=399SPgAACAAJ&amp;d...</td>\n",
       "      <td>NaN</td>\n",
       "      <td>2003-03-01</td>\n",
       "      <td>http://books.google.nl/books?id=399SPgAACAAJ&amp;d...</td>\n",
       "      <td>NaN</td>\n",
       "      <td>NaN</td>\n",
       "    </tr>\n",
       "    <tr>\n",
       "      <th>5</th>\n",
       "      <td>The Church of Christ: A Biblical Ecclesiology ...</td>\n",
       "      <td>In The Church of Christ: A Biblical Ecclesiolo...</td>\n",
       "      <td>['Everett Ferguson']</td>\n",
       "      <td>http://books.google.com/books/content?id=kVqRa...</td>\n",
       "      <td>http://books.google.nl/books?id=kVqRaiPlx88C&amp;p...</td>\n",
       "      <td>Wm. B. Eerdmans Publishing</td>\n",
       "      <td>1996</td>\n",
       "      <td>http://books.google.nl/books?id=kVqRaiPlx88C&amp;d...</td>\n",
       "      <td>['Religion']</td>\n",
       "      <td>5.0</td>\n",
       "    </tr>\n",
       "    <tr>\n",
       "      <th>6</th>\n",
       "      <td>The Overbury affair (Avon)</td>\n",
       "      <td>NaN</td>\n",
       "      <td>['Miriam Allen De Ford']</td>\n",
       "      <td>NaN</td>\n",
       "      <td>http://books.google.nl/books?id=mHLTngEACAAJ&amp;d...</td>\n",
       "      <td>NaN</td>\n",
       "      <td>1960</td>\n",
       "      <td>http://books.google.nl/books?id=mHLTngEACAAJ&amp;d...</td>\n",
       "      <td>NaN</td>\n",
       "      <td>NaN</td>\n",
       "    </tr>\n",
       "    <tr>\n",
       "      <th>7</th>\n",
       "      <td>A Walk in the Woods: a Play in Two Acts</td>\n",
       "      <td>NaN</td>\n",
       "      <td>['Lee Blessing']</td>\n",
       "      <td>NaN</td>\n",
       "      <td>http://books.google.nl/books?id=6HDOwAEACAAJ&amp;d...</td>\n",
       "      <td>NaN</td>\n",
       "      <td>1988</td>\n",
       "      <td>http://books.google.nl/books?id=6HDOwAEACAAJ&amp;d...</td>\n",
       "      <td>NaN</td>\n",
       "      <td>3.0</td>\n",
       "    </tr>\n",
       "    <tr>\n",
       "      <th>8</th>\n",
       "      <td>Saint Hyacinth of Poland</td>\n",
       "      <td>The story for children 10 and up of St. Hyacin...</td>\n",
       "      <td>['Mary Fabyan Windeatt']</td>\n",
       "      <td>http://books.google.com/books/content?id=lmLqA...</td>\n",
       "      <td>http://books.google.nl/books?id=lmLqAAAACAAJ&amp;d...</td>\n",
       "      <td>Tan Books &amp; Pub</td>\n",
       "      <td>2009-01-01</td>\n",
       "      <td>http://books.google.nl/books?id=lmLqAAAACAAJ&amp;d...</td>\n",
       "      <td>['Biography &amp; Autobiography']</td>\n",
       "      <td>NaN</td>\n",
       "    </tr>\n",
       "    <tr>\n",
       "      <th>9</th>\n",
       "      <td>Rising Sons and Daughters: Life Among Japan's ...</td>\n",
       "      <td>Wardell recalls his experience as a foreign st...</td>\n",
       "      <td>['Steven Wardell']</td>\n",
       "      <td>NaN</td>\n",
       "      <td>http://books.google.nl/books?id=rbLZugEACAAJ&amp;d...</td>\n",
       "      <td>Plympton PressIntl</td>\n",
       "      <td>1995</td>\n",
       "      <td>http://books.google.nl/books?id=rbLZugEACAAJ&amp;d...</td>\n",
       "      <td>['Social Science']</td>\n",
       "      <td>NaN</td>\n",
       "    </tr>\n",
       "  </tbody>\n",
       "</table>\n",
       "</div>"
      ],
      "text/plain": [
       "                                               Title  \\\n",
       "0                     Its Only Art If Its Well Hung!   \n",
       "1                           Dr. Seuss: American Icon   \n",
       "2              Wonderful Worship in Smaller Churches   \n",
       "3                      Whispers of the Wicked Saints   \n",
       "4  Nation Dance: Religion, Identity and Cultural ...   \n",
       "5  The Church of Christ: A Biblical Ecclesiology ...   \n",
       "6                         The Overbury affair (Avon)   \n",
       "7            A Walk in the Woods: a Play in Two Acts   \n",
       "8                           Saint Hyacinth of Poland   \n",
       "9  Rising Sons and Daughters: Life Among Japan's ...   \n",
       "\n",
       "                                         description  \\\n",
       "0                                                NaN   \n",
       "1  Philip Nel takes a fascinating look into the k...   \n",
       "2  This resource includes twelve principles in un...   \n",
       "3  Julia Thomas finds her life spinning out of co...   \n",
       "4                                                NaN   \n",
       "5  In The Church of Christ: A Biblical Ecclesiolo...   \n",
       "6                                                NaN   \n",
       "7                                                NaN   \n",
       "8  The story for children 10 and up of St. Hyacin...   \n",
       "9  Wardell recalls his experience as a foreign st...   \n",
       "\n",
       "                    authors  \\\n",
       "0          ['Julie Strain']   \n",
       "1            ['Philip Nel']   \n",
       "2          ['David R. Ray']   \n",
       "3       ['Veronica Haddon']   \n",
       "4           ['Edward Long']   \n",
       "5      ['Everett Ferguson']   \n",
       "6  ['Miriam Allen De Ford']   \n",
       "7          ['Lee Blessing']   \n",
       "8  ['Mary Fabyan Windeatt']   \n",
       "9        ['Steven Wardell']   \n",
       "\n",
       "                                               image  \\\n",
       "0  http://books.google.com/books/content?id=DykPA...   \n",
       "1  http://books.google.com/books/content?id=IjvHQ...   \n",
       "2  http://books.google.com/books/content?id=2tsDA...   \n",
       "3  http://books.google.com/books/content?id=aRSIg...   \n",
       "4                                                NaN   \n",
       "5  http://books.google.com/books/content?id=kVqRa...   \n",
       "6                                                NaN   \n",
       "7                                                NaN   \n",
       "8  http://books.google.com/books/content?id=lmLqA...   \n",
       "9                                                NaN   \n",
       "\n",
       "                                         previewLink  \\\n",
       "0  http://books.google.nl/books?id=DykPAAAACAAJ&d...   \n",
       "1  http://books.google.nl/books?id=IjvHQsCn_pgC&p...   \n",
       "2  http://books.google.nl/books?id=2tsDAAAACAAJ&d...   \n",
       "3  http://books.google.nl/books?id=aRSIgJlq6JwC&d...   \n",
       "4  http://books.google.nl/books?id=399SPgAACAAJ&d...   \n",
       "5  http://books.google.nl/books?id=kVqRaiPlx88C&p...   \n",
       "6  http://books.google.nl/books?id=mHLTngEACAAJ&d...   \n",
       "7  http://books.google.nl/books?id=6HDOwAEACAAJ&d...   \n",
       "8  http://books.google.nl/books?id=lmLqAAAACAAJ&d...   \n",
       "9  http://books.google.nl/books?id=rbLZugEACAAJ&d...   \n",
       "\n",
       "                    publisher publishedDate  \\\n",
       "0                         NaN          1996   \n",
       "1                   A&C Black    2005-01-01   \n",
       "2                         NaN          2000   \n",
       "3                   iUniverse       2005-02   \n",
       "4                         NaN    2003-03-01   \n",
       "5  Wm. B. Eerdmans Publishing          1996   \n",
       "6                         NaN          1960   \n",
       "7                         NaN          1988   \n",
       "8             Tan Books & Pub    2009-01-01   \n",
       "9          Plympton PressIntl          1995   \n",
       "\n",
       "                                            infoLink  \\\n",
       "0  http://books.google.nl/books?id=DykPAAAACAAJ&d...   \n",
       "1  http://books.google.nl/books?id=IjvHQsCn_pgC&d...   \n",
       "2  http://books.google.nl/books?id=2tsDAAAACAAJ&d...   \n",
       "3  http://books.google.nl/books?id=aRSIgJlq6JwC&d...   \n",
       "4  http://books.google.nl/books?id=399SPgAACAAJ&d...   \n",
       "5  http://books.google.nl/books?id=kVqRaiPlx88C&d...   \n",
       "6  http://books.google.nl/books?id=mHLTngEACAAJ&d...   \n",
       "7  http://books.google.nl/books?id=6HDOwAEACAAJ&d...   \n",
       "8  http://books.google.nl/books?id=lmLqAAAACAAJ&d...   \n",
       "9  http://books.google.nl/books?id=rbLZugEACAAJ&d...   \n",
       "\n",
       "                      categories  ratingsCount  \n",
       "0    ['Comics & Graphic Novels']           NaN  \n",
       "1  ['Biography & Autobiography']           NaN  \n",
       "2                   ['Religion']           NaN  \n",
       "3                    ['Fiction']           NaN  \n",
       "4                            NaN           NaN  \n",
       "5                   ['Religion']           5.0  \n",
       "6                            NaN           NaN  \n",
       "7                            NaN           3.0  \n",
       "8  ['Biography & Autobiography']           NaN  \n",
       "9             ['Social Science']           NaN  "
      ]
     },
     "execution_count": 6,
     "metadata": {},
     "output_type": "execute_result"
    }
   ],
   "source": [
    "pd_df1 = pandas.read_csv(\"/dataset/test/input/books_data.csv\", dtype={'Title': str, 'description': str, 'authors':str,'image':str,'previewLink':str,'publisher':str,'publishedDate':str,'infoLink':str,'categories':str,'ratingsCount':float})\n",
    "pd_df2 = pandas.read_csv(\"/dataset/test/input/Books_rating.csv\")\n",
    "pd_df1.head(10)"
   ]
  },
  {
   "cell_type": "code",
   "execution_count": 7,
   "metadata": {},
   "outputs": [
    {
     "name": "stdout",
     "output_type": "stream",
     "text": [
      "Title             object\n",
      "description       object\n",
      "authors           object\n",
      "image             object\n",
      "previewLink       object\n",
      "publisher         object\n",
      "publishedDate     object\n",
      "infoLink          object\n",
      "categories        object\n",
      "ratingsCount     float64\n",
      "dtype: object\n"
     ]
    },
    {
     "data": {
      "text/plain": [
       "Id                     object\n",
       "Title                  object\n",
       "Price                 float64\n",
       "User_id                object\n",
       "profileName            object\n",
       "review/helpfulness     object\n",
       "review/score          float64\n",
       "review/time             int64\n",
       "review/summary         object\n",
       "review/text            object\n",
       "dtype: object"
      ]
     },
     "execution_count": 7,
     "metadata": {},
     "output_type": "execute_result"
    }
   ],
   "source": [
    "print(pd_df1.dtypes)\n",
    "pd_df2.dtypes"
   ]
  },
  {
   "cell_type": "code",
   "execution_count": 8,
   "metadata": {},
   "outputs": [
    {
     "data": {
      "text/plain": [
       "0"
      ]
     },
     "execution_count": 8,
     "metadata": {},
     "output_type": "execute_result"
    }
   ],
   "source": [
    "pd_df1.to_parquet('/dataset/test/df1.parquet')\n",
    "pd_df2.to_parquet('/dataset/test/df2.parquet')\n",
    "del pd_df1,pd_df2\n",
    "gc.collect() # очистка памяти"
   ]
  },
  {
   "cell_type": "code",
   "execution_count": 9,
   "metadata": {},
   "outputs": [
    {
     "name": "stderr",
     "output_type": "stream",
     "text": [
      "                                                                                \r"
     ]
    },
    {
     "name": "stdout",
     "output_type": "stream",
     "text": [
      "+--------------------+--------------------+--------------------+--------------------+--------------------+--------------------+-------------+--------------------+--------------------+------------+\n",
      "|               Title|         description|             authors|               image|         previewLink|           publisher|publishedDate|            infoLink|          categories|ratingsCount|\n",
      "+--------------------+--------------------+--------------------+--------------------+--------------------+--------------------+-------------+--------------------+--------------------+------------+\n",
      "|Its Only Art If I...|                NULL|    ['Julie Strain']|http://books.goog...|http://books.goog...|                NULL|         1996|http://books.goog...|['Comics & Graphi...|        NULL|\n",
      "|Dr. Seuss: Americ...|Philip Nel takes ...|      ['Philip Nel']|http://books.goog...|http://books.goog...|           A&C Black|   2005-01-01|http://books.goog...|['Biography & Aut...|        NULL|\n",
      "|Wonderful Worship...|This resource inc...|    ['David R. Ray']|http://books.goog...|http://books.goog...|                NULL|         2000|http://books.goog...|        ['Religion']|        NULL|\n",
      "|Whispers of the W...|Julia Thomas find...| ['Veronica Haddon']|http://books.goog...|http://books.goog...|           iUniverse|      2005-02|http://books.goog...|         ['Fiction']|        NULL|\n",
      "|Nation Dance: Rel...|                NULL|     ['Edward Long']|                NULL|http://books.goog...|                NULL|   2003-03-01|http://books.goog...|                NULL|        NULL|\n",
      "|The Church of Chr...|In The Church of ...|['Everett Ferguson']|http://books.goog...|http://books.goog...|Wm. B. Eerdmans P...|         1996|http://books.goog...|        ['Religion']|         5.0|\n",
      "|The Overbury affa...|                NULL|['Miriam Allen De...|                NULL|http://books.goog...|                NULL|         1960|http://books.goog...|                NULL|        NULL|\n",
      "|A Walk in the Woo...|                NULL|    ['Lee Blessing']|                NULL|http://books.goog...|                NULL|         1988|http://books.goog...|                NULL|         3.0|\n",
      "|Saint Hyacinth of...|The story for chi...|['Mary Fabyan Win...|http://books.goog...|http://books.goog...|     Tan Books & Pub|   2009-01-01|http://books.goog...|['Biography & Aut...|        NULL|\n",
      "|Rising Sons and D...|Wardell recalls h...|  ['Steven Wardell']|                NULL|http://books.goog...|  Plympton PressIntl|         1995|http://books.goog...|  ['Social Science']|        NULL|\n",
      "|Muslim Women's Ch...|Counters the West...|['Camillia Fawzi ...|http://books.goog...|http://books.goog...|    Berg Pub Limited|   1994-02-17|http://books.goog...|        ['Religion']|        NULL|\n",
      "|Dramatica for Scr...|Dramatica for Scr...|['Armando Salda A...|http://books.goog...|http://books.goog...|                NULL|      2005-07|http://books.goog...|       ['Reference']|        NULL|\n",
      "|Mensa Number Puzz...|Acclaimed teacher...|['Evelyn B. Chris...|http://books.goog...|http://books.goog...|            Sky Pony|   2018-11-06|http://books.goog...|['Juvenile Nonfic...|        NULL|\n",
      "|Vector Quantizati...|Herb Caen, a popu...|['Allen Gersho', ...|http://books.goog...|http://books.goog...|Springer Science ...|   2012-12-06|https://play.goog...|['Technology & En...|        NULL|\n",
      "|A husband for Kutani|First published i...|      ['Frank Owen']|http://books.goog...|http://books.goog...|Pickle Partners P...|   2018-02-27|https://play.goog...|         ['History']|        NULL|\n",
      "| Gold and greenstone|Sally did most th...|     ['Barry Crump']|                NULL|http://books.goog...|                NULL|         2009|http://books.goog...|['New Zealand fic...|        NULL|\n",
      "|The Ultimate Guid...|This collection b...|    ['Fiona Cownie']|http://books.goog...|http://books.goog...|Bloomsbury Publis...|   2010-01-28|https://play.goog...|             ['Law']|        NULL|\n",
      "|The Repeal of Ret...|At a time when Am...|['Rochelle Gurste...|http://books.goog...|http://books.goog...|       Hill and Wang|   2016-01-05|https://play.goog...|['Political Scien...|        NULL|\n",
      "|Overcoming Hypert...|Like a time bomb ...|['Kenneth H. Coop...|http://books.goog...|http://books.goog...|              Bantam|   2012-02-01|https://play.goog...|['Health & Fitness']|        NULL|\n",
      "|    Alaska Sourdough|\"Sourdough is a m...|     ['Ruth Allman']|http://books.goog...|http://books.goog...|Alaska Northwest ...|         1976|http://books.goog...|         ['Cooking']|        NULL|\n",
      "+--------------------+--------------------+--------------------+--------------------+--------------------+--------------------+-------------+--------------------+--------------------+------------+\n",
      "only showing top 20 rows\n",
      "\n",
      "+----------+--------------------+-----+--------------+--------------------+------------------+------------+-----------+--------------------+--------------------+\n",
      "|        Id|               Title|Price|       User_id|         profileName|review/helpfulness|review/score|review/time|      review/summary|         review/text|\n",
      "+----------+--------------------+-----+--------------+--------------------+------------------+------------+-----------+--------------------+--------------------+\n",
      "|1882931173|Its Only Art If I...| NULL| AVCGYZL8FQQTD|Jim of Oz \"jim-of...|               7/7|         4.0|  940636800|Nice collection o...|This is only for ...|\n",
      "|0826414346|Dr. Seuss: Americ...| NULL|A30TK6U7DNS82R|       Kevin Killian|             10/10|         5.0| 1095724800|   Really Enjoyed It|I don't care much...|\n",
      "|0826414346|Dr. Seuss: Americ...| NULL|A3UH4UZ4RSVO82|        John Granger|             10/11|         5.0| 1078790400|Essential for eve...|If people become ...|\n",
      "|0826414346|Dr. Seuss: Americ...| NULL|A2MVUWT453QH61|Roy E. Perry \"ama...|               7/7|         4.0| 1090713600|Phlip Nel gives s...|Theodore Seuss Ge...|\n",
      "|0826414346|Dr. Seuss: Americ...| NULL|A22X4XUPKF66MR|D. H. Richards \"n...|               3/3|         4.0| 1107993600|Good academic ove...|Philip Nel - Dr. ...|\n",
      "|0826414346|Dr. Seuss: Americ...| NULL|A2F6NONFUDB6UK|              Malvin|               2/2|         4.0| 1127174400|One of America's ...|\"Dr. Seuss: Ameri...|\n",
      "|0826414346|Dr. Seuss: Americ...| NULL|A14OJS0VWMOSWO| Midwest Book Review|               3/4|         5.0| 1100131200|A memorably excel...|Theodor Seuss Gie...|\n",
      "|0826414346|Dr. Seuss: Americ...| NULL|A2RSSXTDZDUSH4|           J. Squire|               0/0|         5.0| 1231200000|Academia At It's ...|When I recieved t...|\n",
      "|0826414346|Dr. Seuss: Americ...| NULL|A25MD5I2GUIW6W|J. P. HIGBED \"big...|               0/0|         5.0| 1209859200|And to think that...|Trams (or any pub...|\n",
      "|0826414346|Dr. Seuss: Americ...| NULL|A3VA4XFS5WNJO3|     Donald Burnside|               3/5|         4.0| 1076371200|Fascinating accou...|As far as I am aw...|\n",
      "|0829814000|Wonderful Worship...| 19.4| AZ0IOBU20TBOP|  Rev. Pamela Tinnin|              8/10|         5.0|  991440000|Outstanding Resou...|I just finished t...|\n",
      "|0829814000|Wonderful Worship...| 19.4|A373VVEU6Z9M0N|Dr. Terry W. Dorsett|               1/1|         5.0| 1291766400|Small Churches CA...|Many small church...|\n",
      "|0829814000|Wonderful Worship...| 19.4| AGKGOH65VTRR4|Cynthia L. Lajoy ...|               1/1|         5.0| 1248307200|Not Just for Past...|I just finished r...|\n",
      "|0829814000|Wonderful Worship...| 19.4| A3OQWLU31BU1Y|       Maxwell Grant|               1/1|         5.0| 1222560000|Small church past...|I hadn't been a s...|\n",
      "|0595344550|Whispers of the W...|10.95|A3Q12RK71N74LB|         Book Reader|              7/11|         1.0| 1117065600|            not good|I bought this boo...|\n",
      "|0595344550|Whispers of the W...|10.95|A1E9M6APK30ZAU|           V. Powell|               1/2|         4.0| 1119571200|  Here is my opinion|I have to admit, ...|\n",
      "|0595344550|Whispers of the W...|10.95| AUR0VA5H0C66C|LoveToRead \"Actua...|               1/2|         1.0| 1119225600|        Buyer beware|This is a self-pu...|\n",
      "|0595344550|Whispers of the W...|10.95|A1YLDZ3VHR6QPZ|               Clara|               2/4|         5.0| 1115942400| Fall on your knee's|When I first read...|\n",
      "|0595344550|Whispers of the W...|10.95| ACO23CG8K8T77|               Tonya|               5/9|         5.0| 1117065600|      Bravo Veronica|I read the review...|\n",
      "|0595344550|Whispers of the W...|10.95|A1VK81CRRC7MLM|    missyLou \"apple\"|               1/3|         5.0| 1130025600|           Wonderful|I really enjoyed ...|\n",
      "+----------+--------------------+-----+--------------+--------------------+------------------+------------+-----------+--------------------+--------------------+\n",
      "only showing top 20 rows\n",
      "\n"
     ]
    },
    {
     "name": "stderr",
     "output_type": "stream",
     "text": [
      "                                                                                \r"
     ]
    }
   ],
   "source": [
    "df1 = spark.read.parquet('/dataset/test/df1.parquet')\n",
    "df2 = spark.read.parquet('/dataset/test/df2.parquet')\n",
    "df1.show()\n",
    "df2.show()"
   ]
  },
  {
   "cell_type": "code",
   "execution_count": 10,
   "metadata": {},
   "outputs": [
    {
     "name": "stdout",
     "output_type": "stream",
     "text": [
      "[('Title', 'string'), ('description', 'string'), ('authors', 'string'), ('image', 'string'), ('previewLink', 'string'), ('publisher', 'string'), ('publishedDate', 'string'), ('infoLink', 'string'), ('categories', 'string'), ('ratingsCount', 'double')]\n"
     ]
    },
    {
     "data": {
      "text/plain": [
       "[('Id', 'string'),\n",
       " ('Title', 'string'),\n",
       " ('Price', 'double'),\n",
       " ('User_id', 'string'),\n",
       " ('profileName', 'string'),\n",
       " ('review/helpfulness', 'string'),\n",
       " ('review/score', 'double'),\n",
       " ('review/time', 'bigint'),\n",
       " ('review/summary', 'string'),\n",
       " ('review/text', 'string')]"
      ]
     },
     "execution_count": 10,
     "metadata": {},
     "output_type": "execute_result"
    }
   ],
   "source": [
    "print(df1.dtypes)\n",
    "df2.dtypes"
   ]
  },
  {
   "cell_type": "code",
   "execution_count": 11,
   "metadata": {},
   "outputs": [
    {
     "name": "stdout",
     "output_type": "stream",
     "text": [
      "+--------------------+--------------------+--------------------+--------------------+--------------------+--------------------+-------------+--------------------+--------------------+\n",
      "|               Title|         description|             authors|               image|         previewLink|           publisher|publishedDate|            infoLink|          categories|\n",
      "+--------------------+--------------------+--------------------+--------------------+--------------------+--------------------+-------------+--------------------+--------------------+\n",
      "|Its Only Art If I...|                NULL|      [Julie Strain]|http://books.goog...|http://books.goog...|                NULL|   1996-01-01|http://books.goog...|[Comics & Graphic...|\n",
      "|Dr. Seuss: Americ...|Philip Nel takes ...|        [Philip Nel]|http://books.goog...|http://books.goog...|           A&C Black|   2005-01-01|http://books.goog...|[Biography & Auto...|\n",
      "|Wonderful Worship...|This resource inc...|      [David R. Ray]|http://books.goog...|http://books.goog...|                NULL|   2000-01-01|http://books.goog...|          [Religion]|\n",
      "|Whispers of the W...|Julia Thomas find...|   [Veronica Haddon]|http://books.goog...|http://books.goog...|           iUniverse|   2005-02-01|http://books.goog...|           [Fiction]|\n",
      "|Nation Dance: Rel...|                NULL|       [Edward Long]|                NULL|http://books.goog...|                NULL|   2003-03-01|http://books.goog...|                NULL|\n",
      "|The Church of Chr...|In The Church of ...|  [Everett Ferguson]|http://books.goog...|http://books.goog...|Wm. B. Eerdmans P...|   1996-01-01|http://books.goog...|          [Religion]|\n",
      "|The Overbury affa...|                NULL|[Miriam Allen De ...|                NULL|http://books.goog...|                NULL|   1960-01-01|http://books.goog...|                NULL|\n",
      "|A Walk in the Woo...|                NULL|      [Lee Blessing]|                NULL|http://books.goog...|                NULL|   1988-01-01|http://books.goog...|                NULL|\n",
      "|Saint Hyacinth of...|The story for chi...|[Mary Fabyan Wind...|http://books.goog...|http://books.goog...|     Tan Books & Pub|   2009-01-01|http://books.goog...|[Biography & Auto...|\n",
      "|Rising Sons and D...|Wardell recalls h...|    [Steven Wardell]|                NULL|http://books.goog...|  Plympton PressIntl|   1995-01-01|http://books.goog...|    [Social Science]|\n",
      "|Muslim Women's Ch...|Counters the West...|[Camillia Fawzi E...|http://books.goog...|http://books.goog...|    Berg Pub Limited|   1994-02-17|http://books.goog...|          [Religion]|\n",
      "|Dramatica for Scr...|Dramatica for Scr...|[Armando Salda A-...|http://books.goog...|http://books.goog...|                NULL|   2005-07-01|http://books.goog...|         [Reference]|\n",
      "|Mensa Number Puzz...|Acclaimed teacher...|[Evelyn B. Christ...|http://books.goog...|http://books.goog...|            Sky Pony|   2018-11-06|http://books.goog...|[Juvenile Nonfict...|\n",
      "|Vector Quantizati...|Herb Caen, a popu...|[Allen Gersho,  R...|http://books.goog...|http://books.goog...|Springer Science ...|   2012-12-06|https://play.goog...|[Technology & Eng...|\n",
      "|A husband for Kutani|First published i...|        [Frank Owen]|http://books.goog...|http://books.goog...|Pickle Partners P...|   2018-02-27|https://play.goog...|           [History]|\n",
      "| Gold and greenstone|Sally did most th...|       [Barry Crump]|                NULL|http://books.goog...|                NULL|   2009-01-01|http://books.goog...|[New Zealand fict...|\n",
      "|The Ultimate Guid...|This collection b...|      [Fiona Cownie]|http://books.goog...|http://books.goog...|Bloomsbury Publis...|   2010-01-28|https://play.goog...|               [Law]|\n",
      "|The Repeal of Ret...|At a time when Am...| [Rochelle Gurstein]|http://books.goog...|http://books.goog...|       Hill and Wang|   2016-01-05|https://play.goog...| [Political Science]|\n",
      "|Overcoming Hypert...|Like a time bomb ...| [Kenneth H. Cooper]|http://books.goog...|http://books.goog...|              Bantam|   2012-02-01|https://play.goog...|  [Health & Fitness]|\n",
      "|    Alaska Sourdough|\"Sourdough is a m...|       [Ruth Allman]|http://books.goog...|http://books.goog...|Alaska Northwest ...|   1976-01-01|http://books.goog...|           [Cooking]|\n",
      "+--------------------+--------------------+--------------------+--------------------+--------------------+--------------------+-------------+--------------------+--------------------+\n",
      "only showing top 20 rows\n",
      "\n"
     ]
    }
   ],
   "source": [
    "book_meta = df1.drop(\"ratingsCount\").withColumns({\"publishedDate\":Spark_f.to_date(col(\"publishedDate\")),\"authors\":Spark_f.split(Spark_f.regexp_replace(Spark_f.col(\"authors\"), r\"[\\[\\]']\", \"\"), \",\"),\"categories\":Spark_f.split(Spark_f.regexp_replace(Spark_f.col(\"categories\"), r\"[\\[\\]']\", \"\"), \",\")})\n",
    "book_meta.show()"
   ]
  },
  {
   "cell_type": "code",
   "execution_count": 12,
   "metadata": {},
   "outputs": [
    {
     "name": "stdout",
     "output_type": "stream",
     "text": [
      "+----------+--------------------+--------------+--------------------+------------+-----------+--------------------+--------------------+-------------+-----------+\n",
      "|        Id|               Title|       User_id|         profileName|review/score|review/time|      review/summary|         review/text|helpful_votes|total_votes|\n",
      "+----------+--------------------+--------------+--------------------+------------+-----------+--------------------+--------------------+-------------+-----------+\n",
      "|1882931173|Its Only Art If I...| AVCGYZL8FQQTD|Jim of Oz \"jim-of...|         4.0| 1999-10-23|Nice collection o...|This is only for ...|            7|          7|\n",
      "|0826414346|Dr. Seuss: Americ...|A30TK6U7DNS82R|       Kevin Killian|         5.0| 2004-09-21|   Really Enjoyed It|I don't care much...|           10|         10|\n",
      "|0826414346|Dr. Seuss: Americ...|A3UH4UZ4RSVO82|        John Granger|         5.0| 2004-03-09|Essential for eve...|If people become ...|           10|         11|\n",
      "|0826414346|Dr. Seuss: Americ...|A2MVUWT453QH61|Roy E. Perry \"ama...|         4.0| 2004-07-25|Phlip Nel gives s...|Theodore Seuss Ge...|            7|          7|\n",
      "|0826414346|Dr. Seuss: Americ...|A22X4XUPKF66MR|D. H. Richards \"n...|         4.0| 2005-02-10|Good academic ove...|Philip Nel - Dr. ...|            3|          3|\n",
      "|0826414346|Dr. Seuss: Americ...|A2F6NONFUDB6UK|              Malvin|         4.0| 2005-09-20|One of America's ...|\"Dr. Seuss: Ameri...|            2|          2|\n",
      "|0826414346|Dr. Seuss: Americ...|A14OJS0VWMOSWO| Midwest Book Review|         5.0| 2004-11-11|A memorably excel...|Theodor Seuss Gie...|            3|          4|\n",
      "|0826414346|Dr. Seuss: Americ...|A2RSSXTDZDUSH4|           J. Squire|         5.0| 2009-01-06|Academia At It's ...|When I recieved t...|            0|          0|\n",
      "|0826414346|Dr. Seuss: Americ...|A25MD5I2GUIW6W|J. P. HIGBED \"big...|         5.0| 2008-05-04|And to think that...|Trams (or any pub...|            0|          0|\n",
      "|0826414346|Dr. Seuss: Americ...|A3VA4XFS5WNJO3|     Donald Burnside|         4.0| 2004-02-10|Fascinating accou...|As far as I am aw...|            3|          5|\n",
      "|0829814000|Wonderful Worship...| AZ0IOBU20TBOP|  Rev. Pamela Tinnin|         5.0| 2001-06-02|Outstanding Resou...|I just finished t...|            8|         10|\n",
      "|0829814000|Wonderful Worship...|A373VVEU6Z9M0N|Dr. Terry W. Dorsett|         5.0| 2010-12-08|Small Churches CA...|Many small church...|            1|          1|\n",
      "|0829814000|Wonderful Worship...| AGKGOH65VTRR4|Cynthia L. Lajoy ...|         5.0| 2009-07-23|Not Just for Past...|I just finished r...|            1|          1|\n",
      "|0829814000|Wonderful Worship...| A3OQWLU31BU1Y|       Maxwell Grant|         5.0| 2008-09-28|Small church past...|I hadn't been a s...|            1|          1|\n",
      "|0595344550|Whispers of the W...|A3Q12RK71N74LB|         Book Reader|         1.0| 2005-05-26|            not good|I bought this boo...|            7|         11|\n",
      "|0595344550|Whispers of the W...|A1E9M6APK30ZAU|           V. Powell|         4.0| 2005-06-24|  Here is my opinion|I have to admit, ...|            1|          2|\n",
      "|0595344550|Whispers of the W...| AUR0VA5H0C66C|LoveToRead \"Actua...|         1.0| 2005-06-20|        Buyer beware|This is a self-pu...|            1|          2|\n",
      "|0595344550|Whispers of the W...|A1YLDZ3VHR6QPZ|               Clara|         5.0| 2005-05-13| Fall on your knee's|When I first read...|            2|          4|\n",
      "|0595344550|Whispers of the W...| ACO23CG8K8T77|               Tonya|         5.0| 2005-05-26|      Bravo Veronica|I read the review...|            5|          9|\n",
      "|0595344550|Whispers of the W...|A1VK81CRRC7MLM|    missyLou \"apple\"|         5.0| 2005-10-23|           Wonderful|I really enjoyed ...|            1|          3|\n",
      "+----------+--------------------+--------------+--------------------+------------+-----------+--------------------+--------------------+-------------+-----------+\n",
      "only showing top 20 rows\n",
      "\n"
     ]
    }
   ],
   "source": [
    "review_helpfulness = Spark_f.split(df2['review/helpfulness'],'/')\n",
    "book_review = df2.withColumns({\"review/time\":Spark_f.to_date(Spark_f.from_unixtime(col(\"review/time\").cast(\"long\"))),\n",
    "                               'helpful_votes':review_helpfulness.getItem(0).cast('int'),\n",
    "                               'total_votes':review_helpfulness.getItem(1).cast('int')}).drop('Price','review/helpfulness')\n",
    "book_review.show()\n"
   ]
  },
  {
   "cell_type": "code",
   "execution_count": 13,
   "metadata": {},
   "outputs": [],
   "source": [
    "book_review = book_review.filter(Spark_f.isnotnull(book_review.User_id))"
   ]
  },
  {
   "cell_type": "code",
   "execution_count": 14,
   "metadata": {},
   "outputs": [
    {
     "name": "stderr",
     "output_type": "stream",
     "text": [
      "[Stage 14:>                                                       (0 + 10) / 11]\r"
     ]
    },
    {
     "name": "stdout",
     "output_type": "stream",
     "text": [
      "+--------------------+--------------------+--------------------+--------------------+--------------------+--------------------+-------------+--------------------+-------------------+----------+\n",
      "|               Title|         description|             authors|               image|         previewLink|           publisher|publishedDate|            infoLink|         categories|popularity|\n",
      "+--------------------+--------------------+--------------------+--------------------+--------------------+--------------------+-------------+--------------------+-------------------+----------+\n",
      "|          The Hobbit|Celebrating 75 ye...|  [J. R. R. Tolkien]|http://books.goog...|http://books.goog...|       Mariner Books|   2012-01-01|http://books.goog...| [Juvenile Fiction]|     18237|\n",
      "| Pride and Prejudice|In early nineteen...|       [Jane Austen]|http://books.goog...|http://books.goog...| Courier Corporation|   1995-01-01|http://books.goog...|          [Fiction]|     17969|\n",
      "|      Atlas Shrugged|                NULL|                NULL|                NULL|                NULL|                NULL|         NULL|                NULL|               NULL|     10762|\n",
      "|   Wuthering Heights|Wuthering Heights...|      [Emily Bronte]|http://books.goog...|http://books.goog...|Library of Alexan...|         NULL|https://play.goog...|               NULL|      8660|\n",
      "|  Great Expectations|Penguin Classics ...|   [Charles Dickens]|http://books.goog...|http://books.goog...|          Penguin UK|   2003-01-30|https://play.goog...|          [Fiction]|      5675|\n",
      "|   Mere Christianity|In the classic Me...|       [C. S. Lewis]|http://books.goog...|http://books.goog...|      Harper Collins|   2009-06-02|https://play.goog...|         [Religion]|      5527|\n",
      "|The Picture of Do...|The Picture of Do...|       [Óscar Wilde]|http://books.goog...|http://books.goog...|                NULL|   2016-01-24|http://books.goog...|               NULL|      5316|\n",
      "|          Persuasion|                NULL|       [Jane Austen]|http://books.goog...|http://books.goog...|      Little, Brown,|   1899-01-01|https://play.goog...|               NULL|      5160|\n",
      "|     Brave New World|Brave New World p...|     [Aldous Huxley]|http://books.goog...|http://books.goog...|        Random House|   2008-12-26|https://play.goog...|          [Fiction]|      5136|\n",
      "|     Of Mice and Men|                NULL|                NULL|                NULL|                NULL|                NULL|         NULL|                NULL|               NULL|      4678|\n",
      "|    The Great Gatsby|In The Great Gats...|[F. Scott Fitzger...|http://books.goog...|http://books.goog...|       Pan Macmillan|   2016-09-08|https://play.goog...|          [Fiction]|      4305|\n",
      "|           The Giver|Given his lifetim...|        [Lois Lowry]|http://books.goog...|http://books.goog...|      Harcourt Brace|   2014-07-01|http://books.goog...| [Juvenile Fiction]|      3854|\n",
      "|The Scarlet Lette...|                NULL|                NULL|                NULL|                NULL|                NULL|         NULL|                NULL|               NULL|      3848|\n",
      "|Harry Potter and ...|Celebrate 20 year...|     [J. K. Rowling]|http://books.goog...|http://books.goog...|Bloomsbury Publis...|   2014-01-09|http://books.goog...| [Juvenile Fiction]|      3748|\n",
      "|The Hobbit There ...|The adventures of...|[John Ronald Reue...|                NULL|http://books.goog...|                NULL|   1966-01-01|http://books.goog...|[Adventure stories]|      3682|\n",
      "|The Hobbit; Or, T...|                NULL|                NULL|                NULL|                NULL|                NULL|         NULL|                NULL|               NULL|      3668|\n",
      "|The Hobbitt, or t...|Bilbo Baggins, a ...|  [J. R. R. Tolkien]|http://books.goog...|http://books.goog...|Houghton Mifflin ...|   2013-01-01|http://books.goog...|          [Fiction]|      3665|\n",
      "|The Hobbit or The...|Celebrating 75 ye...|  [J. R. R. Tolkien]|http://books.goog...|http://books.goog...|       Mariner Books|   2012-01-01|http://books.goog...| [Juvenile Fiction]|      3617|\n",
      "|      Fahrenheit 451|                NULL|      [Ray Bradbury]|http://books.goog...|http://books.goog...|                NULL|   2012-01-01|http://books.goog...|     [Book burning]|      3543|\n",
      "|To kill a mocking...|Voted America's B...|        [Harper Lee]|http://books.goog...|http://books.goog...|      Harper Collins|   2014-07-08|https://play.goog...|          [Fiction]|      3337|\n",
      "+--------------------+--------------------+--------------------+--------------------+--------------------+--------------------+-------------+--------------------+-------------------+----------+\n",
      "only showing top 20 rows\n",
      "\n"
     ]
    },
    {
     "name": "stderr",
     "output_type": "stream",
     "text": [
      "                                                                                \r"
     ]
    }
   ],
   "source": [
    "book_meta = book_meta.join(book_review.groupBy(\"Title\").agg(Spark_f.count(\"*\").alias(\"popularity\")),on=\"Title\", how=\"left\").sort(Spark_f.desc(\"popularity\")).limit(2000) # для последующих фильтров\n",
    "book_meta.show()"
   ]
  },
  {
   "cell_type": "code",
   "execution_count": 15,
   "metadata": {},
   "outputs": [
    {
     "name": "stderr",
     "output_type": "stream",
     "text": [
      "[Stage 15:===================================================>     (9 + 1) / 10]\r"
     ]
    },
    {
     "name": "stdout",
     "output_type": "stream",
     "text": [
      "+-----+-----------+-------+-----+-----------+---------+-------------+--------+----------+----------+\n",
      "|Title|description|authors|image|previewLink|publisher|publishedDate|infoLink|categories|popularity|\n",
      "+-----+-----------+-------+-----+-----------+---------+-------------+--------+----------+----------+\n",
      "|    0|        370|    232|  311|        194|      452|          202|     194|       348|         0|\n",
      "+-----+-----------+-------+-----+-----------+---------+-------------+--------+----------+----------+\n",
      "\n"
     ]
    },
    {
     "name": "stderr",
     "output_type": "stream",
     "text": [
      "                                                                                \r"
     ]
    }
   ],
   "source": [
    "book_meta.select([Spark_f.count(Spark_f.when(Spark_f.isnull(c), c)).alias(c) for c in book_meta.columns]).show()"
   ]
  },
  {
   "cell_type": "code",
   "execution_count": 16,
   "metadata": {},
   "outputs": [
    {
     "name": "stderr",
     "output_type": "stream",
     "text": [
      "[Stage 21:===================================================>     (9 + 1) / 10]\r"
     ]
    },
    {
     "name": "stdout",
     "output_type": "stream",
     "text": [
      "+--------------------+--------------------+--------------------+--------------------+--------------------+--------------------+-------------+--------------------+-------------------+----------+\n",
      "|               Title|         description|             authors|               image|         previewLink|           publisher|publishedDate|            infoLink|         categories|popularity|\n",
      "+--------------------+--------------------+--------------------+--------------------+--------------------+--------------------+-------------+--------------------+-------------------+----------+\n",
      "|          The Hobbit|Celebrating 75 ye...|  [J. R. R. Tolkien]|http://books.goog...|http://books.goog...|       Mariner Books|   2012-01-01|http://books.goog...| [Juvenile Fiction]|     18237|\n",
      "| Pride and Prejudice|In early nineteen...|       [Jane Austen]|http://books.goog...|http://books.goog...| Courier Corporation|   1995-01-01|http://books.goog...|          [Fiction]|     17969|\n",
      "|   Wuthering Heights|Wuthering Heights...|      [Emily Bronte]|http://books.goog...|http://books.goog...|Library of Alexan...|         NULL|https://play.goog...|               NULL|      8660|\n",
      "|  Great Expectations|Penguin Classics ...|   [Charles Dickens]|http://books.goog...|http://books.goog...|          Penguin UK|   2003-01-30|https://play.goog...|          [Fiction]|      5675|\n",
      "|   Mere Christianity|In the classic Me...|       [C. S. Lewis]|http://books.goog...|http://books.goog...|      Harper Collins|   2009-06-02|https://play.goog...|         [Religion]|      5527|\n",
      "|The Picture of Do...|The Picture of Do...|       [Óscar Wilde]|http://books.goog...|http://books.goog...|                NULL|   2016-01-24|http://books.goog...|               NULL|      5316|\n",
      "|          Persuasion|                NULL|       [Jane Austen]|http://books.goog...|http://books.goog...|      Little, Brown,|   1899-01-01|https://play.goog...|               NULL|      5160|\n",
      "|     Brave New World|Brave New World p...|     [Aldous Huxley]|http://books.goog...|http://books.goog...|        Random House|   2008-12-26|https://play.goog...|          [Fiction]|      5136|\n",
      "|    The Great Gatsby|In The Great Gats...|[F. Scott Fitzger...|http://books.goog...|http://books.goog...|       Pan Macmillan|   2016-09-08|https://play.goog...|          [Fiction]|      4305|\n",
      "|           The Giver|Given his lifetim...|        [Lois Lowry]|http://books.goog...|http://books.goog...|      Harcourt Brace|   2014-07-01|http://books.goog...| [Juvenile Fiction]|      3854|\n",
      "|Harry Potter and ...|Celebrate 20 year...|     [J. K. Rowling]|http://books.goog...|http://books.goog...|Bloomsbury Publis...|   2014-01-09|http://books.goog...| [Juvenile Fiction]|      3748|\n",
      "|The Hobbit There ...|The adventures of...|[John Ronald Reue...|                NULL|http://books.goog...|                NULL|   1966-01-01|http://books.goog...|[Adventure stories]|      3682|\n",
      "|The Hobbitt, or t...|Bilbo Baggins, a ...|  [J. R. R. Tolkien]|http://books.goog...|http://books.goog...|Houghton Mifflin ...|   2013-01-01|http://books.goog...|          [Fiction]|      3665|\n",
      "|The Hobbit or The...|Celebrating 75 ye...|  [J. R. R. Tolkien]|http://books.goog...|http://books.goog...|       Mariner Books|   2012-01-01|http://books.goog...| [Juvenile Fiction]|      3617|\n",
      "|      Fahrenheit 451|                NULL|      [Ray Bradbury]|http://books.goog...|http://books.goog...|                NULL|   2012-01-01|http://books.goog...|     [Book burning]|      3543|\n",
      "|To kill a mocking...|Voted America's B...|        [Harper Lee]|http://books.goog...|http://books.goog...|      Harper Collins|   2014-07-08|https://play.goog...|          [Fiction]|      3337|\n",
      "|        Little Women|Op eigen wieken i...| [Louisa May Alcott]|http://books.goog...|http://books.goog...|Lindhardt og Ringhof|   2018-12-19|https://play.goog...|          [Fiction]|      3296|\n",
      "|Unfit for Command...|The must-read sum...|[BusinessNews Pub...|http://books.goog...|http://books.goog...|            Primento|   2017-01-30|https://play.goog...|[Political Science]|      3009|\n",
      "|                1984|Nieuwspraak, Big ...|     [George Orwell]|http://books.goog...|http://books.goog...| Singel Uitgeverijen|   2013-05-16|https://play.goog...|          [Fiction]|      2936|\n",
      "|             Ulysses|Beschrijving van ...|[James Augustine ...|                NULL|http://books.goog...|                NULL|   1984-01-01|http://books.goog...|               NULL|      2932|\n",
      "+--------------------+--------------------+--------------------+--------------------+--------------------+--------------------+-------------+--------------------+-------------------+----------+\n",
      "only showing top 20 rows\n",
      "\n"
     ]
    },
    {
     "name": "stderr",
     "output_type": "stream",
     "text": [
      "                                                                                \r"
     ]
    }
   ],
   "source": [
    "book_meta = book_meta.filter(Spark_f.isnotnull(book_meta['previewLink'])).limit(1000)\n",
    "book_meta.show()"
   ]
  },
  {
   "cell_type": "code",
   "execution_count": 17,
   "metadata": {},
   "outputs": [
    {
     "name": "stderr",
     "output_type": "stream",
     "text": [
      "[Stage 27:===================================================>    (12 + 1) / 13]\r"
     ]
    },
    {
     "name": "stdout",
     "output_type": "stream",
     "text": [
      "+---+-----+-------+-----------+------------+-----------+--------------+-----------+-------------+-----------+\n",
      "| Id|Title|User_id|profileName|review/score|review/time|review/summary|review/text|helpful_votes|total_votes|\n",
      "+---+-----+-------+-----------+------------+-----------+--------------+-----------+-------------+-----------+\n",
      "|  0|  195|      0|        118|           0|          0|           397|          1|            0|          0|\n",
      "+---+-----+-------+-----------+------------+-----------+--------------+-----------+-------------+-----------+\n",
      "\n"
     ]
    },
    {
     "name": "stderr",
     "output_type": "stream",
     "text": [
      "                                                                                \r"
     ]
    }
   ],
   "source": [
    "book_review.select([Spark_f.count(Spark_f.when(Spark_f.isnull(c), c)).alias(c) for c in book_review.columns]).show()"
   ]
  },
  {
   "cell_type": "code",
   "execution_count": 18,
   "metadata": {},
   "outputs": [
    {
     "name": "stderr",
     "output_type": "stream",
     "text": [
      "                                                                                \r"
     ]
    },
    {
     "name": "stdout",
     "output_type": "stream",
     "text": [
      "705707\n"
     ]
    },
    {
     "name": "stderr",
     "output_type": "stream",
     "text": [
      "[Stage 45:===============================================>        (11 + 2) / 13]\r"
     ]
    },
    {
     "name": "stdout",
     "output_type": "stream",
     "text": [
      "+--------------------+----------+--------------+--------------------+------------+-----------+--------------------+--------------------+-------------+-----------+\n",
      "|               Title|        Id|       User_id|         profileName|review/score|review/time|      review/summary|         review/text|helpful_votes|total_votes|\n",
      "+--------------------+----------+--------------+--------------------+------------+-----------+--------------------+--------------------+-------------+-----------+\n",
      "|  Rich Dad, Poor Dad|B000GSDG8E| AS9CUR7C69N6W|\"korak@evilemail....|         1.0| 2000-10-15|Not worth the mon...|I know this book ...|         3435|       3755|\n",
      "|Liberal Fascism: ...|0385511841|A2LEVKA3U6CXX7|David McCune \"sel...|         5.0| 2008-01-08|\"I ask you to jud...|And boy, does Jon...|         2927|       3616|\n",
      "|           NEW EARTH|B000N6R4AA| ARK5SAGVLW3FY|        bunnyrabbit4|         1.0| 2008-04-14| Buddhism repackaged|This is an intere...|         2425|       2948|\n",
      "|Unfit for Command...|B0006IU3ZS|A2BVCT2MPS6LHI|         Huge Viking|         5.0| 2004-08-12| Simply The Truth!!!|Forget about \"Fah...|         2080|       3397|\n",
      "|Women Who Make th...|B000GIW43W|A2IWIKLZ4DCYKB| ranmasan \"ranmasan\"|         1.0| 2006-01-11|   Stuck in the 50's|I saw this in our...|         2063|       3206|\n",
      "|Guns, Germs, and ...|B000KISQC6| ASJWCXE10I8AZ|Christopher A. Smith|         3.0| 2001-01-24|A strong theory c...|According to Diam...|         2036|       2369|\n",
      "|ERAGON: INHERITAN...|B000J521DU| AFN32PGTZ31MV|        B. Capossere|         2.0| 2003-11-14|impressive for a ...|What you almost a...|         1847|       2377|\n",
      "|Jonathan Strange ...|B000H7GW2Q| AFN32PGTZ31MV|        B. Capossere|         5.0| 2004-09-16|A pleasure throug...|I'm giving Jonath...|         1640|       1736|\n",
      "|Unfit for Command...|B0006IU3ZS|A2VOMDR5K4N3S1|ET \"Marine Engineer\"|         5.0| 2004-08-14|Inviolable Docume...|An absolutely bri...|         1547|       2309|\n",
      "|The Complete Calv...|B000N5BN4O|A2AZ475W4UZTDO|            ivyspies|         5.0| 2005-10-04|Minor flaws don't...|(I just received ...|         1491|       1518|\n",
      "|Who Moved My Chee...|B000ETWJ74| ADRU0P0DUUN8D|   Alberto Dominguez|         1.0| 2004-06-29|           Worthless|The unbelievably ...|         1421|       1696|\n",
      "|Holy Bible New In...|B000NCYANI|A10HT5IV9UKPT0|           B. Centre|         1.0| 2011-11-28|As violent fantas...|This book has it ...|         1355|       1768|\n",
      "|A Feast for Crows...|B000JSHCCW|A2PTWKZ2VKD2D0|      Mark Pawlyszyn|         3.0| 2005-11-20|A Feast For Stati...|OK, I did somethi...|         1347|       1388|\n",
      "|Dianetics: The Mo...|B000JE0BYC|A1MTRWXUQEXPBW|75 Million Years ...|         1.0| 2008-04-18|  Possibly Dangerous|I found this book...|         1297|       1385|\n",
      "|Guns, Germs, and ...|B000KISQC6| ABVXKXI7222J4|         P. A. Agnew|         2.0| 2000-04-25|Overrated Thesis ...|In &quot;Guns, Ge...|         1290|       2004|\n",
      "|America Alone: Th...|0895260786|A2LEVKA3U6CXX7|David McCune \"sel...|         5.0| 2006-09-25|\"Some light readi...|At least, that's ...|         1274|       1347|\n",
      "|Fairy Tales Every...|B0008B5WUO|A3LSTGAP7LOV1S|     Alice Wakefield|         3.0| 2009-03-31|No Frills Fairy T...|This is collectio...|         1222|       1236|\n",
      "|Fairy tales every...|B0008BQG9K|A3LSTGAP7LOV1S|     Alice Wakefield|         3.0| 2009-03-31|No Frills Fairy T...|This is collectio...|         1222|       1236|\n",
      "|A Feast for Crows...|B000JSHCCW| ASQCF56K5G2DK|           A. A. Fox|         3.0| 2005-11-15|The song is becom...|It's doubtful tha...|         1209|       1268|\n",
      "|Crossroads of Twi...|B000FFJRI6|A21DYMFOMQ37AH|              Tom E.|         1.0| 2004-12-19| Another Masterpiece|Those who can app...|         1184|       1275|\n",
      "+--------------------+----------+--------------+--------------------+------------+-----------+--------------------+--------------------+-------------+-----------+\n",
      "only showing top 20 rows\n",
      "\n"
     ]
    },
    {
     "name": "stderr",
     "output_type": "stream",
     "text": [
      "                                                                                \r"
     ]
    }
   ],
   "source": [
    "book_review = book_review.join(book_meta,on='Title',how='leftsemi').sort(Spark_f.desc(book_review.helpful_votes))\n",
    "print(book_review.count())\n",
    "book_review.show()"
   ]
  },
  {
   "cell_type": "code",
   "execution_count": 19,
   "metadata": {},
   "outputs": [
    {
     "name": "stderr",
     "output_type": "stream",
     "text": [
      "                                                                                \r"
     ]
    },
    {
     "name": "stdout",
     "output_type": "stream",
     "text": [
      "+--------------+-----+\n",
      "|       User_id|count|\n",
      "+--------------+-----+\n",
      "|A1D2C0WDCSHUWZ| 1977|\n",
      "|A20EEWWSFMZ1PN|  749|\n",
      "|A1EKTLUL24HDG8|  379|\n",
      "|A1X8VZWTOG8IS6|  364|\n",
      "|A1K1JW1C5CUSUZ|  361|\n",
      "|A1N1YEMTI9DJ86|  293|\n",
      "|A3OH101U0CPUC7|  293|\n",
      "|A1T17LMQABMBN5|  277|\n",
      "| AHD101501WCN1|  264|\n",
      "|A1G37DFO8MQW0M|  263|\n",
      "| AJQ1S39GZBKUG|  259|\n",
      "|A1LMBM1N4EXS5W|  258|\n",
      "|A22DUZU3XVA8HA|  251|\n",
      "|A3IKBHODOTYYHM|  249|\n",
      "|A3QVAKVRAH657N|  243|\n",
      "| AHXAPVSHPJ6OJ|  241|\n",
      "|A3NI29U4P5NQF1|  230|\n",
      "|A29NUB3P6YIWZG|  217|\n",
      "| A4FX5YCJA630V|  217|\n",
      "|A28WJUJF6D2ULA|  208|\n",
      "+--------------+-----+\n",
      "only showing top 20 rows\n",
      "\n"
     ]
    }
   ],
   "source": [
    "book_review.groupBy(book_review.User_id).count().sort(Spark_f.desc('count')).show()"
   ]
  },
  {
   "cell_type": "code",
   "execution_count": 20,
   "metadata": {},
   "outputs": [
    {
     "name": "stderr",
     "output_type": "stream",
     "text": [
      "[Stage 64:============>   (10 + 3) / 13][Stage 67:==========>      (7 + 4) / 11]\r"
     ]
    },
    {
     "name": "stdout",
     "output_type": "stream",
     "text": [
      "+--------------------+--------------------+--------------------+--------------------+--------------------+--------------------+-------------+--------------------+--------------------+----------+------------------+\n",
      "|               Title|         description|             authors|               image|         previewLink|           publisher|publishedDate|            infoLink|          categories|popularity|          avgScore|\n",
      "+--------------------+--------------------+--------------------+--------------------+--------------------+--------------------+-------------+--------------------+--------------------+----------+------------------+\n",
      "|          The Hobbit|Celebrating 75 ye...|  [J. R. R. Tolkien]|http://books.goog...|http://books.goog...|       Mariner Books|   2012-01-01|http://books.goog...|  [Juvenile Fiction]|     18237|4.6797718923068485|\n",
      "|      Fahrenheit 451|                NULL|      [Ray Bradbury]|http://books.goog...|http://books.goog...|                NULL|   2012-01-01|http://books.goog...|      [Book burning]|      3543| 4.214225232853514|\n",
      "|                1984|Nieuwspraak, Big ...|     [George Orwell]|http://books.goog...|http://books.goog...| Singel Uitgeverijen|   2013-05-16|https://play.goog...|           [Fiction]|      2936| 4.580040871934605|\n",
      "|    The Great Gatsby|In The Great Gats...|[F. Scott Fitzger...|http://books.goog...|http://books.goog...|       Pan Macmillan|   2016-09-08|https://play.goog...|           [Fiction]|      4305| 4.158188153310104|\n",
      "|The Hobbit There ...|The adventures of...|[John Ronald Reue...|                NULL|http://books.goog...|                NULL|   1966-01-01|http://books.goog...| [Adventure stories]|      3682| 4.680065181966323|\n",
      "|Blink: The Power ...|From the #1 bests...|  [Malcolm Gladwell]|http://books.goog...|http://books.goog...|      Back Bay Books|   2007-04-03|https://play.goog...|[Business & Econo...|      2851| 3.696597685022799|\n",
      "|           The Giver|Given his lifetim...|        [Lois Lowry]|http://books.goog...|http://books.goog...|      Harcourt Brace|   2014-07-01|http://books.goog...|  [Juvenile Fiction]|      3854| 4.341463414634147|\n",
      "|     Brave New World|Brave New World p...|     [Aldous Huxley]|http://books.goog...|http://books.goog...|        Random House|   2008-12-26|https://play.goog...|           [Fiction]|      5136| 4.227219626168225|\n",
      "|To kill a mocking...|Voted America's B...|        [Harper Lee]|http://books.goog...|http://books.goog...|      Harper Collins|   2014-07-08|https://play.goog...|           [Fiction]|      3337| 4.600539406652682|\n",
      "|             Ulysses|Beschrijving van ...|[James Augustine ...|                NULL|http://books.goog...|                NULL|   1984-01-01|http://books.goog...|                NULL|      2932| 3.789904502046385|\n",
      "|   Wuthering Heights|Wuthering Heights...|      [Emily Bronte]|http://books.goog...|http://books.goog...|Library of Alexan...|         NULL|https://play.goog...|                NULL|      8660| 4.095727482678984|\n",
      "|   Mere Christianity|In the classic Me...|       [C. S. Lewis]|http://books.goog...|http://books.goog...|      Harper Collins|   2009-06-02|https://play.goog...|          [Religion]|      5527|4.5058802243531755|\n",
      "|Unfit for Command...|The must-read sum...|[BusinessNews Pub...|http://books.goog...|http://books.goog...|            Primento|   2017-01-30|https://play.goog...| [Political Science]|      3009| 3.493519441674975|\n",
      "|The Picture of Do...|The Picture of Do...|       [Óscar Wilde]|http://books.goog...|http://books.goog...|                NULL|   2016-01-24|http://books.goog...|                NULL|      5316|  4.27915726109857|\n",
      "| Pride and Prejudice|In early nineteen...|       [Jane Austen]|http://books.goog...|http://books.goog...| Courier Corporation|   1995-01-01|http://books.goog...|           [Fiction]|     17969| 4.531415215092659|\n",
      "|The Hobbitt, or t...|Bilbo Baggins, a ...|  [J. R. R. Tolkien]|http://books.goog...|http://books.goog...|Houghton Mifflin ...|   2013-01-01|http://books.goog...|           [Fiction]|      3665| 4.681582537517053|\n",
      "|The Hobbit or The...|Celebrating 75 ye...|  [J. R. R. Tolkien]|http://books.goog...|http://books.goog...|       Mariner Books|   2012-01-01|http://books.goog...|  [Juvenile Fiction]|      3617| 4.678462814487144|\n",
      "|          Persuasion|                NULL|       [Jane Austen]|http://books.goog...|http://books.goog...|      Little, Brown,|   1899-01-01|https://play.goog...|                NULL|      5160| 4.369186046511628|\n",
      "|        Little Women|Op eigen wieken i...| [Louisa May Alcott]|http://books.goog...|http://books.goog...|Lindhardt og Ringhof|   2018-12-19|https://play.goog...|           [Fiction]|      3296| 4.426577669902913|\n",
      "|  Great Expectations|Penguin Classics ...|   [Charles Dickens]|http://books.goog...|http://books.goog...|          Penguin UK|   2003-01-30|https://play.goog...|           [Fiction]|      5675|4.1779735682819386|\n",
      "+--------------------+--------------------+--------------------+--------------------+--------------------+--------------------+-------------+--------------------+--------------------+----------+------------------+\n",
      "only showing top 20 rows\n",
      "\n"
     ]
    },
    {
     "name": "stderr",
     "output_type": "stream",
     "text": [
      "                                                                                \r"
     ]
    }
   ],
   "source": [
    "book_meta = book_meta.join(book_review.groupBy(book_review.Title).agg(Spark_f.avg('review/score').alias('avgScore')),on=\"Title\", how=\"left\")\n",
    "book_meta.show()"
   ]
  },
  {
   "cell_type": "code",
   "execution_count": 31,
   "metadata": {},
   "outputs": [
    {
     "name": "stdout",
     "output_type": "stream",
     "text": [
      "1000\n"
     ]
    },
    {
     "name": "stderr",
     "output_type": "stream",
     "text": [
      "                                                                                \r"
     ]
    },
    {
     "name": "stdout",
     "output_type": "stream",
     "text": [
      "705707\n",
      "+------------------+\n",
      "|        avg(count)|\n",
      "+------------------+\n",
      "|3.0637755655794288|\n",
      "+------------------+\n",
      "\n"
     ]
    }
   ],
   "source": [
    "print(book_meta.count())\n",
    "print(book_review.count())\n",
    "book_review.groupBy(book_review.User_id).count().select(Spark_f.avg('count')).show()"
   ]
  },
  {
   "cell_type": "code",
   "execution_count": 32,
   "metadata": {},
   "outputs": [
    {
     "name": "stderr",
     "output_type": "stream",
     "text": [
      "                                                                                \r"
     ]
    }
   ],
   "source": [
    "book_meta.coalesce(1).write.mode(\"overwrite\") \\\n",
    "    .option(\"compression\", \"snappy\") \\\n",
    "    .parquet(\"/dataset/test/test_book_meta\")\n",
    "book_review.coalesce(1).write.mode(\"overwrite\") \\\n",
    "    .option(\"compression\", \"snappy\") \\\n",
    "    .parquet(\"/dataset/test/test_book_review\")"
   ]
  }
 ],
 "metadata": {
  "kernelspec": {
   "display_name": ".venv",
   "language": "python",
   "name": "python3"
  },
  "language_info": {
   "codemirror_mode": {
    "name": "ipython",
    "version": 3
   },
   "file_extension": ".py",
   "mimetype": "text/x-python",
   "name": "python",
   "nbconvert_exporter": "python",
   "pygments_lexer": "ipython3",
   "version": "3.12.7"
  }
 },
 "nbformat": 4,
 "nbformat_minor": 2
}
