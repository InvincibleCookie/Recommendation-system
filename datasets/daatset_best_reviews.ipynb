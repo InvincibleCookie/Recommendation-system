{
 "cells": [
  {
   "cell_type": "code",
   "execution_count": 1,
   "metadata": {},
   "outputs": [
    {
     "name": "stdout",
     "output_type": "stream",
     "text": [
      "Requirement already satisfied: pyspark in ./.venv/lib/python3.12/site-packages (3.5.1)\n",
      "Requirement already satisfied: py4j==0.10.9.7 in ./.venv/lib/python3.12/site-packages (from pyspark) (0.10.9.7)\n"
     ]
    }
   ],
   "source": [
    "! pip install pyspark"
   ]
  },
  {
   "cell_type": "code",
   "execution_count": 2,
   "metadata": {},
   "outputs": [],
   "source": [
    "from pyspark.sql import SparkSession\n",
    "from pyspark.ml import Pipeline\n",
    "# from pyspark.ml.feature import StringIndexer, VectorAssembler, OneHotEncoder, StandardScaler\n",
    "# from pyspark.ml.evaluation import MulticlassClassificationEvaluator\n",
    "# from pyspark.ml.regression import LinearRegression, DecisionTreeRegressor, RandomForestRegressor, GBTRegressor\n",
    "# from pyspark.ml.evaluation import RegressionEvaluator\n",
    "from pyspark.sql.functions import col\n",
    "import shutil\n",
    "from pyspark.sql.types import *\n",
    "import pyspark.sql.functions as Spark_f\n",
    "from pyspark import SparkConf"
   ]
  },
  {
   "cell_type": "code",
   "execution_count": 3,
   "metadata": {},
   "outputs": [
    {
     "name": "stderr",
     "output_type": "stream",
     "text": [
      "24/10/23 15:29:53 WARN Utils: Your hostname, NBM-WXX9-7572c0be resolves to a loopback address: 127.0.1.1; using 192.168.88.79 instead (on interface wlp1s0)\n",
      "24/10/23 15:29:53 WARN Utils: Set SPARK_LOCAL_IP if you need to bind to another address\n",
      "Setting default log level to \"WARN\".\n",
      "To adjust logging level use sc.setLogLevel(newLevel). For SparkR, use setLogLevel(newLevel).\n",
      "24/10/23 15:29:54 WARN NativeCodeLoader: Unable to load native-hadoop library for your platform... using builtin-java classes where applicable\n"
     ]
    }
   ],
   "source": [
    "spark = SparkSession.builder.appName(\"PySparkAmazonReviewsJob\").getOrCreate()"
   ]
  },
  {
   "cell_type": "code",
   "execution_count": 4,
   "metadata": {},
   "outputs": [
    {
     "data": {
      "text/html": [
       "\n",
       "            <div>\n",
       "                <p><b>SparkSession - in-memory</b></p>\n",
       "                \n",
       "        <div>\n",
       "            <p><b>SparkContext</b></p>\n",
       "\n",
       "            <p><a href=\"http://192.168.88.79:4040\">Spark UI</a></p>\n",
       "\n",
       "            <dl>\n",
       "              <dt>Version</dt>\n",
       "                <dd><code>v3.5.1</code></dd>\n",
       "              <dt>Master</dt>\n",
       "                <dd><code>local[*]</code></dd>\n",
       "              <dt>AppName</dt>\n",
       "                <dd><code>PySparkGameSalesJob</code></dd>\n",
       "            </dl>\n",
       "        </div>\n",
       "        \n",
       "            </div>\n",
       "        "
      ],
      "text/plain": [
       "<pyspark.sql.session.SparkSession at 0x743f5175a2a0>"
      ]
     },
     "execution_count": 4,
     "metadata": {},
     "output_type": "execute_result"
    }
   ],
   "source": [
    "spark"
   ]
  },
  {
   "cell_type": "code",
   "execution_count": 5,
   "metadata": {},
   "outputs": [
    {
     "name": "stdout",
     "output_type": "stream",
     "text": [
      "+-----------+------+--------------------+--------------------+--------------------+-------------+-----------------+------------+\n",
      "|parent_asin|rating|               title|                text|             user_id|    timestamp|verified_purchase|helpful_vote|\n",
      "+-----------+------+--------------------+--------------------+--------------------+-------------+-----------------+------------+\n",
      "| 1501175564|   2.0|This pretty much ...|I'm a non-partisa...|AFENZBXVDFQDJADMN...|1505435675735|             true|       14835|\n",
      "| 1501175564|   1.0|   Litany of Excuses|It's the same tir...|AGA7SSJTMKSLYTSGF...|1505508811827|             true|        7791|\n",
      "| 1543024971|   5.0|A Must-Read for M...|A few years ago, ...|AGZ7B6YEHVZHQHZFN...|1488943350000|             true|        7775|\n",
      "| 1501175564|   1.0|A complete waste ...|A complete waste ...|AG6I7QNRWQPS3UVZI...|1505365873977|             true|        7442|\n",
      "| 1501175564|   1.0|\"And I would've g...|Blamefest, but I ...|AHFMG76RZZDER4UOX...|1505354682473|             true|        7358|\n",
      "| 0140280197|   4.0|DANGER: read at y...|there seems to be...|AHDOWYSDMC62N7MKI...|1510767782350|             true|        6642|\n",
      "| 0545231493|   3.0|Where are the wor...|This product is n...|AHFQWAB4JIDIDNK3H...|1396448662000|             true|        6270|\n",
      "| 1501175564|   1.0|Belongs in the fi...|an amazing work o...|AHZ7X5CPS4JMPHVUR...|1505479186889|             true|        6108|\n",
      "| 0593230574|   5.0|4 reasons you sho...|I'm going to do s...|AFUWRFXUD3WR55NN6...|1637084659129|             true|        6058|\n",
      "| 1623156122|   5.0|The best official...|If you were one o...|AGHTKTEFNJ6J5IUGP...|1471267684000|             true|        5919|\n",
      "| 1338099132|   2.0|               Sigh.|Let me start by s...|AHVLHPGLQF2AAITLP...|1469952332000|             true|        5623|\n",
      "| 1101965487|   3.0|Comparing sizes- ...|This review is pr...|AF6NDIJZVITTT4WQT...|1467923198000|             true|        5573|\n",
      "| 0735219095|   1.0|Most irritating b...|I was sure I woul...|AEJ6Z2AMLUXLQ5Z26...|1548635158334|             true|        5528|\n",
      "| 0553573403|   5.0|Well plotted and ...|First off, I'm a ...|AGUNDDGZTW4YVOTZB...| 989424607000|             true|        5315|\n",
      "| B00Y7USB14|   5.0|This book changed...|I bought this boo...|AFXN4VZQ56KG6ROZR...|1474814399000|             true|        4869|\n",
      "| 1524763136|   1.0|        Disappointed|Slow and boring a...|AENFR6NQN4ULCHXE4...|1544773046835|             true|        4769|\n",
      "| 1250066115|   5.0|         Pros & Cons|PROS: The advice ...|AGTD5KDES3NIJLX4I...|1509475626865|             true|        4664|\n",
      "| 1501175564|   1.0|              BORING|Worst book EVER!!...|AGNJCKG23GSKKDGCZ...|1505356659610|             true|        4637|\n",
      "| 0345816021|   5.0|The most influent...|I will admit this...|AGKDDPBZMVYHUPOYX...|1541972757034|             true|        4453|\n",
      "| 0062300547|   5.0|An edifying and i...|There is a lot to...|AFICMXNXCSEUACT3X...|1469463960000|             true|        4330|\n",
      "+-----------+------+--------------------+--------------------+--------------------+-------------+-----------------+------------+\n",
      "only showing top 20 rows\n",
      "\n"
     ]
    }
   ],
   "source": [
    "best_reviews = spark.read.parquet(\"/dataset/output/best_reviews\")\n",
    "best_reviews = best_reviews[best_reviews.helpful_vote!=18130]\n",
    "best_reviews.show()"
   ]
  },
  {
   "cell_type": "code",
   "execution_count": 6,
   "metadata": {},
   "outputs": [
    {
     "name": "stdout",
     "output_type": "stream",
     "text": [
      "+-----------+-------------+--------------------+--------------+-------------+--------------------+--------------------+--------------------+------+--------------------+--------------+--------------------+--------------------+\n",
      "|parent_asin|main_category|               title|average_rating|rating_number|            features|         description|              images|videos|             details|first_category|     second_category|remaining_categories|\n",
      "+-----------+-------------+--------------------+--------------+-------------+--------------------+--------------------+--------------------+------+--------------------+--------------+--------------------+--------------------+\n",
      "| 0001371029|        Books|Treasury of Nurse...|           4.5|           43|[Vintage children...|                  []|[{large -> https:...|    []|                  {}|         Books|    Children's Books|                  []|\n",
      "| 0001486632|        Books|New England Chris...|           5.0|            1|                  []|                  []|[{large -> https:...|    []|{Publisher -> Bre...|         Books|         Books on CD|                  []|\n",
      "| 0002151863|        Books|Success Secrets: ...|           5.0|            3|[By the author of...|                  []|[{large -> https:...|    []|{Publisher -> Har...|         Books|    Business & Money|[Management & Lea...|\n",
      "| 0002192942|        Books|A Field Guide to ...|           4.0|            6|[Provides descrip...|                  []|[{large -> https:...|    []|{Publisher -> Har...|         Books|      Science & Math|  [Nature & Ecology]|\n",
      "| 0002554356|        Books|Polaroids from th...|           4.1|           22|[A book in three ...|                  []|[{large -> https:...|    []|{Publisher -> Har...|         Books|Literature & Fiction|[Essays & Corresp...|\n",
      "| 0004126742|        Books|How to Draw and P...|           4.4|            4|                  []|                  []|[{large -> https:...|    []|{Publisher -> Har...|         Books|  Arts & Photography|           [Drawing]|\n",
      "| 0004127382|        Books|The East India Co...|           3.3|            3|[Since history be...|                  []|[{large -> https:...|    []|{Publisher -> Har...|         Books|      Science & Math|        [Technology]|\n",
      "| 0006132685|        Books|Hitler, the last ...|           5.0|            2|           [history]|                  []|[{large -> https:...|    []|{Publisher -> Fon...|         Books|Literature & Fiction|     [Genre Fiction]|\n",
      "| 0006375731|        Books|Supreme Vegetaria...|           4.6|           12|                  []|                  []|[{large -> https:...|    []|{Publisher -> Har...|         Books|Cookbooks, Food &...|[Vegetarian & Vegan]|\n",
      "| 0006922627|        Books|      Emperor's Pony|           4.5|            2|                  []|                  []|[{large -> https:...|    []|{Publisher -> Arm...|         Books|    Children's Books|                  []|\n",
      "| 0007114346|        Books|      Wolf's Brother|           4.5|          508|[The compelling s...|                  []|[{large -> https:...|    []|{Publisher -> Voy...|         Books|Science Fiction &...|           [Fantasy]|\n",
      "| 0007119313|        Books|Murder on the Ori...|           4.5|        30206|[Just after midni...|                  []|[{large -> https:...|    []|{Publisher -> HAR...|         Books|Mystery, Thriller...|           [Mystery]|\n",
      "| 0007155387|        Books|        Side Effects|           4.4|            9|[Psychoanalysis w...|[Review, This col...|[{large -> https:...|    []|{Publisher -> Fou...|         Books|Literature & Fiction|      [Contemporary]|\n",
      "| 0007176848|        Books|THE GENTLE BIRTH ...|           4.4|          141|                  []|                  []|[{large -> https:...|    []|{Publisher -> Har...|         Books|Health, Fitness &...|    [Women's Health]|\n",
      "| 0007207492|        Books|Order In Chaos (T...|           4.6|          419|[The third instal...|                  []|[{large -> https:...|    []|{Publisher -> Har...|         Books|Literature & Fiction|     [Genre Fiction]|\n",
      "| 0007227272|        Books|The \"Times\" Su Do...|           4.2|           22|                  []|                  []|                  []|    []|{Publisher -> Har...|         Books|Humor & Entertain...|   [Puzzles & Games]|\n",
      "| 0007264984|        Books|Chinese Food Made...|           4.4|          460|[Ching-He Huang i...|                  []|                  []|    []|{Publisher -> Har...|         Books|         China Books|                  []|\n",
      "| 0007265050|        Books|Riverford Farm Co...|           4.8|           76|[This recipe book...|                  []|[{large -> https:...|    []|{Publisher -> Har...|         Books|Cookbooks, Food &...|[Cooking by Ingre...|\n",
      "| 0007268947|        Books|  FLINT & SILVER- PB|           4.4|          243|[publisher overst...|                  []|[{large -> https:...|    []|{Publisher -> Har...|         Books|Literature & Fiction|[Action & Adventure]|\n",
      "| 0007270909|        Books|Paddington Pocket...|           4.7|           14|[Four fun books a...|                  []|[{large -> https:...|    []|{Publisher -> Har...|         Books|    Children's Books|                  []|\n",
      "+-----------+-------------+--------------------+--------------+-------------+--------------------+--------------------+--------------------+------+--------------------+--------------+--------------------+--------------------+\n",
      "only showing top 20 rows\n",
      "\n"
     ]
    }
   ],
   "source": [
    "book_meta = spark.read.parquet(\"/dataset/output/book_metadata\")\n",
    "book_meta.show()"
   ]
  },
  {
   "cell_type": "code",
   "execution_count": 7,
   "metadata": {},
   "outputs": [
    {
     "name": "stdout",
     "output_type": "stream",
     "text": [
      "+-----------+--------------------+--------------------+\n",
      "|parent_asin|               title|         description|\n",
      "+-----------+--------------------+--------------------+\n",
      "| 0001371029|Treasury of Nurse...|                  []|\n",
      "| 0001486632|New England Chris...|                  []|\n",
      "| 0002151863|Success Secrets: ...|                  []|\n",
      "| 0002192942|A Field Guide to ...|                  []|\n",
      "| 0002554356|Polaroids from th...|                  []|\n",
      "| 0004126742|How to Draw and P...|                  []|\n",
      "| 0004127382|The East India Co...|                  []|\n",
      "| 0006132685|Hitler, the last ...|                  []|\n",
      "| 0006375731|Supreme Vegetaria...|                  []|\n",
      "| 0006922627|      Emperor's Pony|                  []|\n",
      "| 0007114346|      Wolf's Brother|                  []|\n",
      "| 0007119313|Murder on the Ori...|                  []|\n",
      "| 0007155387|        Side Effects|[Review, This col...|\n",
      "| 0007176848|THE GENTLE BIRTH ...|                  []|\n",
      "| 0007207492|Order In Chaos (T...|                  []|\n",
      "| 0007227272|The \"Times\" Su Do...|                  []|\n",
      "| 0007264984|Chinese Food Made...|                  []|\n",
      "| 0007265050|Riverford Farm Co...|                  []|\n",
      "| 0007268947|  FLINT & SILVER- PB|                  []|\n",
      "| 0007270909|Paddington Pocket...|                  []|\n",
      "+-----------+--------------------+--------------------+\n",
      "only showing top 20 rows\n",
      "\n"
     ]
    }
   ],
   "source": [
    "book_meta = book_meta.select(\"parent_asin\",\"title\",\"description\")\n",
    "book_meta.show()\n",
    "best_reviews = best_reviews.select(\"parent_asin\",col(\"text\").alias(\"review\"))"
   ]
  },
  {
   "cell_type": "code",
   "execution_count": 8,
   "metadata": {},
   "outputs": [],
   "source": [
    "result_df = book_meta.join(best_reviews, \"parent_asin\")\n",
    "result_df = result_df.groupBy([\"parent_asin\",\"title\",\"description\"]).agg(Spark_f.collect_list(\"review\").alias(\"reviews\"))\n",
    "# result_df.filter(Spark_f.size(\"reviews\")>2).select(\"parent_asin\",result_df.reviews[0],result_df.reviews[1]).show(20,False)"
   ]
  },
  {
   "cell_type": "code",
   "execution_count": 9,
   "metadata": {},
   "outputs": [
    {
     "name": "stderr",
     "output_type": "stream",
     "text": [
      "24/10/23 15:30:09 WARN GarbageCollectionMetrics: To enable non-built-in garbage collector(s) List(G1 Concurrent GC), users should configure it(them) to spark.eventLog.gcMetrics.youngGenerationGarbageCollectors or spark.eventLog.gcMetrics.oldGenerationGarbageCollectors\n",
      "                                                                                \r"
     ]
    }
   ],
   "source": [
    "result_df.coalesce(1).write.mode(\"overwrite\") \\\n",
    "    .option(\"compression\", \"snappy\") \\\n",
    "    .parquet(\"/dataset/output/result_df\")"
   ]
  }
 ],
 "metadata": {
  "kernelspec": {
   "display_name": ".venv",
   "language": "python",
   "name": "python3"
  },
  "language_info": {
   "codemirror_mode": {
    "name": "ipython",
    "version": 3
   },
   "file_extension": ".py",
   "mimetype": "text/x-python",
   "name": "python",
   "nbconvert_exporter": "python",
   "pygments_lexer": "ipython3",
   "version": "3.12.7"
  }
 },
 "nbformat": 4,
 "nbformat_minor": 2
}
